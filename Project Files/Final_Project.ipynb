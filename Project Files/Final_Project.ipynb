{
 "cells": [
  {
   "cell_type": "markdown",
   "id": "0f19ca5f",
   "metadata": {},
   "source": [
    "# CSCI2000U - Scientific Data Analysis"
   ]
  },
  {
   "cell_type": "markdown",
   "id": "d82548bd",
   "metadata": {},
   "source": [
    "## Introduction <a name=\"introduction\"></a>"
   ]
  },
  {
   "cell_type": "markdown",
   "id": "abe467a8",
   "metadata": {},
   "source": [
    "&nbsp;&nbsp;&nbsp;&nbsp;&nbsp;&nbsp;Welcome to the **Final Project** blog for CSCI2000U's Group 17! There are many reasons as to why the housing market was a popular topic to explore within Group 17- two of which are: Similar topics were studied closely thoughout the semester of this course, and also because the team sees how the real estate market has huge potential with data science. As the real estate market is an ever-growing industry, being able to truly understand the data and find underlying patterns can yield huge amounts of potential in real world scenarios. In order to complete a thorough understanding of the data, two datasets were involved and each one was cleaned and/or manipulated. By the end of ths blog, you will see how raw data from the California Housing Market of the 1990 census, is transformed into information that can further be manipulated for business decisions.\n",
    "\n",
    "&nbsp;&nbsp;&nbsp;&nbsp;&nbsp;&nbsp;The `Goals` were laid out to acheive this very clearly: Process the data, and Analyze the housing data - to seek trends and relationships around financial contraints, housing distance from the ocean, the population density around given areas, and fluctuating house values throughout the different regions of California. Below, have a click through the [Table of Contents](#toc) to jump between sections of this blog to grasp a faster sence of how our conclusions were derrived. All in all, completing this blog plost was a great experience and opens many new doors for future data analysis projects to come. "
   ]
  },
  {
   "cell_type": "markdown",
   "id": "e1cac431",
   "metadata": {},
   "source": [
    "## Table of Contents <a name=\"toc\"></a>\n",
    "1. [Introduction](#introduction)\n",
    "2. [Description of Data](#descriptionofdata)\n",
    "    1. [Data Sources](#datasources)\n",
    "    2. [Working With The Dataset](#workingwithdatasets)\n",
    "3. [Getting Started](#start)\n",
    "    1. [Step 1: Import Libraries](#libraries)\n",
    "    2. [Step 2: Import Datasets](#importdatasets)\n",
    "    3. [Step 3: Create Datasets](#createdatasets)\n",
    "        1. [Create Housing Dataset](#housingdataset)\n",
    "        1. [Create California County Dataset](#calicountydataset)\n",
    "4.  [Analysis of The Data](#analysis)\n",
    "    1. [Step 1: Analyze Dataset 1](#analyzedataset1)\n",
    "        1. [Describe the Data](#describedataset1)\n",
    "        2. [Locate Rows with Empty Records ](#locateemptydataset1)\n",
    "        3. [Remove Empty Records](#removeemptydataset1)\n",
    "        4. [Set DataTypes](#setdatatypesdataset1)\n",
    "    2. [Step 2: Analyze Dataset 2](#analyzedataset2)\n",
    "        1. [Describe the Data](#describedataset2)\n",
    "        2. [Locate Rows with Empty Records](#locateemptydataset2)\n",
    "        3. [Set DataTypes](#setdatatypesdataset2)\n",
    "5.  [Exploratory Data Analysis](#explore)\n",
    "    1. [Group By Ocean Proximity](#groupbyoceanproximity)\n",
    "        1. [Portray Breakdown of Homes In Various Ocean Proximities](#homesbyoceanprox)\n",
    "            1. [Mathematical](#homesbyoceanproxmath)\n",
    "            1. [Graphical](#homesbyoceanproxgraph)\n",
    "    2. [Creating Data Subsets](#datasubsets)\n",
    "        1. [Subset: Find Homes That are Within Income Mean +/- Income Standard Deviation](#subsetwithinmeanstd)\n",
    "        2. [Subset: Find Homes That are Greater Than Income Mean & Less Than 1 Hour Away From Ocean](#subsetgtmean1hrocean)\n",
    "    3. [Find Correlation Between Population Above The Mean & Median Income](#correlationpopvsincome)\n",
    "        1. [Mathematical](#correlationpopvsincomemath)\n",
    "        2. [Graphical ](#correlationpopvsincomegraph)\n",
    "    4. [Find Correlation Between Median House Values & Population](#correlationhousevalvspopulation)\n",
    "        1. [Mathematical](#correlationhousevalvspopulationmath)\n",
    "        2. [Graphical ](#correlationhousevalvspopulationgraph)\n",
    "    5. [Find Correlation Between Total Rooms and Total Bedrooms](#correlationroomsvsbedrooms)\n",
    "        1. [Mathematical](#correlationroomsvsbedroomsmath)\n",
    "    6. [Find Correlation Between Households, Median House Value, and Median Income](#correlationhouseholdsvsvaluevsincome)\n",
    "        1. [Mathematical](#correlationhouseholdsvsvaluevsincomemath)\n",
    "    7. [Correlation Matrix: Total Rooms vs. Total Bedrooms vs. Median House Value](#correlationroomsvsbedroomsvsvalue)\n",
    "        1. [Graphical](#correlationroomsvsbedroomsvsvaluegraph)\n",
    "    8. [Correlation Matrix: Population vs. Median Income vs. House Value](#correlationmatrixpopvsincomevsvalue)\n",
    "        1. [Graphical](#correlationmatrixpopvsincomevsvaluegraph)\n",
    "    9. [Line Plot: Median House Value vs. Households](#lineplotvaluevshouseholds)\n",
    "        1. [Graphical](#correlationhouseholdsvsvaluevsincomegraph)\n",
    "    10. [Heatmap: Household Distribution accross California](#heatmapcali)\n",
    "        1. [Preparing The Data](#heatmapcaliprepare)\n",
    "        2. [Graphical](#heatmapcaligraph)\n",
    "6. [Potential Data Science](#datascience)\n",
    "    1. [Real Estate Market](#realestate)\n",
    "    2. [City Planning](#cityplanning)\n",
    "    3. [Investor Outlook](#investoroutlook)\n",
    "7. [Bibliography](#bibliography)"
   ]
  },
  {
   "cell_type": "markdown",
   "id": "dcd0d341",
   "metadata": {},
   "source": [
    "## Description of Data <a name=\"descriptionofdata\"></a>"
   ]
  },
  {
   "cell_type": "markdown",
   "id": "2f59fbcc",
   "metadata": {},
   "source": [
    "### Data Sources <a name=\"datasources\"></a>\n",
    "`Dataset 1` was retrieved from: https://www.kaggle.com/camnugent/california-housing-prices\n",
    "\n",
    "The first dataset comes from a very well known website called: [Kaggle](https://www.kaggle.com/). Kaggle is known for free to use datasets in the educational and machine learning realm. The data specifically pertains to the houses found in a given California district and some summary stats about them based on the 1990 census data.\n",
    "\n",
    "`Dataset 2` was retrieved from: https://data.ca.gov/dataset/ca-geographic-boundaries/resource/b0007416-a325-4777-9295-368ea6b710e6\n",
    "\n",
    "Dataset 2 consists of data that comes directly from *the source*, the [Government of California](https://data.ca.gov/)'s open data website. It pertains to the California State boundary in shapefile format from the US Census Bureau's 2016 MAF/TIGER database."
   ]
  },
  {
   "cell_type": "markdown",
   "id": "756d8d90",
   "metadata": {},
   "source": [
    "### Working With The Dataset <a name=\"workingwithdatasets\"></a>\n",
    "Click [here](#toc) to return to Table of Contents\n",
    "\n",
    "`Dataset 1` Columns:\n",
    "\n",
    "- longitude: A measure of how far west a house is; a higher value is farther west\n",
    "- latitude: A measure of how far north a house is; a higher value is farther north\n",
    "- housingMedianAge: Median age of a house within a block; a lower number is a newer building\n",
    "- totalRooms: Total number of rooms within a block\n",
    "- totalBedrooms: Total number of bedrooms within a block\n",
    "- population: Total number of people residing within a block\n",
    "- households: Total number of households, a group of people residing within a home unit, for a block\n",
    "- medianIncome: Median income for households within a block of houses (measured in tens of thousands of US Dollars)\n",
    "- medianHouseValue: Median house value for households within a block (measured in US Dollars)\n",
    "- oceanProximity: Location of the house with respect to ocean/sea\n",
    "\n",
    "`Dataset 2` Columns:\n",
    "- STATEFP : Current state  Federal Information Processing Standard (FIPS) code\n",
    "- COUNTYFP : Current county FIPS code\n",
    "- COUNTYNS : ANSI feature code for the county or equivalent feature\n",
    "- GEOID : County identifier; a concatenation of Current state FIPS code and county FIPS code\n",
    "- NAME : Current county name\n",
    "- LSAD : Current legal/statistical area description code for county\n",
    "- CLASSFP : Current FIPS class code\n",
    "- MTFCC    : MAF/TIGER Feature Class Code \n",
    "- CSAFP    : Current combined statistical area code\n",
    "- CBSAFP : Current metropolitan statistical area/micropolitan statistical area code\n",
    "- METDIVFP : Current metropolitan division code\n",
    "- FUNCSTAT : Current functional status\n",
    "- ALAND : Current land area\n",
    "- AWATER : Current water area\n",
    "- INTPTLAT : Current latitude of the internal point\n",
    "- INTPTLON : Current longitude of the internal point\n",
    "- geometry : geometry data"
   ]
  },
  {
   "cell_type": "markdown",
   "id": "d6e956d6",
   "metadata": {},
   "source": [
    "## Getting Started <a name=\"start\"></a>\n",
    "Click [here](#toc) to return to Table of Contents"
   ]
  },
  {
   "cell_type": "markdown",
   "id": "1f1516f1",
   "metadata": {},
   "source": [
    "It's time to get our hands dirty by writting some code. First things first, we must import libraries, datasets, and prepare dataframes."
   ]
  },
  {
   "cell_type": "markdown",
   "id": "e2b22044",
   "metadata": {},
   "source": [
    "### Step 1: Import Libraries <a name=\"libraries\"></a>"
   ]
  },
  {
   "cell_type": "markdown",
   "id": "66af70d3",
   "metadata": {},
   "source": [
    "Some very well known libraries such as `numpy`, `pandas`, `seaborn`, `matplotlib`, and `geopy` are required for analysis of the data, which can be found [here](#analysis)."
   ]
  },
  {
   "cell_type": "code",
   "execution_count": 1,
   "id": "86fa10fd",
   "metadata": {},
   "outputs": [
    {
     "name": "stderr",
     "output_type": "stream",
     "text": [
      "  Running command git clone --filter=blob:none -q git://github.com/geopandas/geopandas.git 'C:\\Users\\olawa\\AppData\\Local\\Temp\\pip-req-build-kr2m7i8v'\n"
     ]
    },
    {
     "name": "stdout",
     "output_type": "stream",
     "text": [
      "Collecting git+git://github.com/geopandas/geopandas.git\n",
      "  Cloning git://github.com/geopandas/geopandas.git to c:\\users\\olawa\\appdata\\local\\temp\\pip-req-build-kr2m7i8v\n",
      "  Resolved git://github.com/geopandas/geopandas.git to commit 554d2ee376f1b71c0a36c92fc7db1dfbfe3fcdbc\n",
      "  Preparing metadata (setup.py): started\n",
      "  Preparing metadata (setup.py): finished with status 'done'\n",
      "Requirement already satisfied: pandas>=0.25.0 in c:\\users\\olawa\\appdata\\local\\programs\\python\\python39\\lib\\site-packages (from geopandas==0+untagged.1504.g554d2ee) (1.3.4)\n",
      "Requirement already satisfied: shapely>=1.6 in c:\\users\\olawa\\appdata\\local\\programs\\python\\python39\\lib\\site-packages (from geopandas==0+untagged.1504.g554d2ee) (1.8.0)\n",
      "Requirement already satisfied: fiona>=1.8 in c:\\users\\olawa\\appdata\\local\\programs\\python\\python39\\lib\\site-packages (from geopandas==0+untagged.1504.g554d2ee) (1.8.20)\n",
      "Requirement already satisfied: pyproj>=2.2.0 in c:\\users\\olawa\\appdata\\local\\programs\\python\\python39\\lib\\site-packages (from geopandas==0+untagged.1504.g554d2ee) (3.3.0)\n",
      "Requirement already satisfied: cligj>=0.5 in c:\\users\\olawa\\appdata\\local\\programs\\python\\python39\\lib\\site-packages (from fiona>=1.8->geopandas==0+untagged.1504.g554d2ee) (0.7.2)\n",
      "Requirement already satisfied: gdal~=3.3.0 in c:\\users\\olawa\\appdata\\local\\programs\\python\\python39\\lib\\site-packages (from fiona>=1.8->geopandas==0+untagged.1504.g554d2ee) (3.3.3)\n",
      "Requirement already satisfied: certifi in c:\\users\\olawa\\appdata\\local\\programs\\python\\python39\\lib\\site-packages (from fiona>=1.8->geopandas==0+untagged.1504.g554d2ee) (2020.6.20)\n",
      "Requirement already satisfied: click-plugins>=1.0 in c:\\users\\olawa\\appdata\\local\\programs\\python\\python39\\lib\\site-packages (from fiona>=1.8->geopandas==0+untagged.1504.g554d2ee) (1.1.1)\n",
      "Requirement already satisfied: munch in c:\\users\\olawa\\appdata\\local\\programs\\python\\python39\\lib\\site-packages (from fiona>=1.8->geopandas==0+untagged.1504.g554d2ee) (2.5.0)\n",
      "Requirement already satisfied: setuptools in c:\\users\\olawa\\appdata\\local\\programs\\python\\python39\\lib\\site-packages (from fiona>=1.8->geopandas==0+untagged.1504.g554d2ee) (57.0.0)\n",
      "Requirement already satisfied: click>=4.0 in c:\\users\\olawa\\appdata\\local\\programs\\python\\python39\\lib\\site-packages (from fiona>=1.8->geopandas==0+untagged.1504.g554d2ee) (8.0.3)\n",
      "Requirement already satisfied: attrs>=17 in c:\\users\\olawa\\appdata\\local\\programs\\python\\python39\\lib\\site-packages (from fiona>=1.8->geopandas==0+untagged.1504.g554d2ee) (21.2.0)\n",
      "Requirement already satisfied: six>=1.7 in c:\\users\\olawa\\appdata\\local\\programs\\python\\python39\\lib\\site-packages (from fiona>=1.8->geopandas==0+untagged.1504.g554d2ee) (1.15.0)\n",
      "Requirement already satisfied: python-dateutil>=2.7.3 in c:\\users\\olawa\\appdata\\local\\programs\\python\\python39\\lib\\site-packages (from pandas>=0.25.0->geopandas==0+untagged.1504.g554d2ee) (2.8.1)\n",
      "Requirement already satisfied: pytz>=2017.3 in c:\\users\\olawa\\appdata\\local\\programs\\python\\python39\\lib\\site-packages (from pandas>=0.25.0->geopandas==0+untagged.1504.g554d2ee) (2021.1)\n",
      "Requirement already satisfied: numpy>=1.17.3 in c:\\users\\olawa\\appdata\\local\\programs\\python\\python39\\lib\\site-packages (from pandas>=0.25.0->geopandas==0+untagged.1504.g554d2ee) (1.19.3)\n",
      "Requirement already satisfied: colorama in c:\\users\\olawa\\appdata\\local\\programs\\python\\python39\\lib\\site-packages (from click>=4.0->fiona>=1.8->geopandas==0+untagged.1504.g554d2ee) (0.4.4)\n",
      "Building wheels for collected packages: geopandas\n",
      "  Building wheel for geopandas (setup.py): started\n",
      "  Building wheel for geopandas (setup.py): finished with status 'done'\n",
      "  Created wheel for geopandas: filename=geopandas-0+untagged.1504.g554d2ee-py2.py3-none-any.whl size=1033527 sha256=56ad9d04df5a705fabb6d6271620d06e265be87632968ab1aaa61a8196d4c7f5\n",
      "  Stored in directory: C:\\Users\\olawa\\AppData\\Local\\Temp\\pip-ephem-wheel-cache-9s1cfnxb\\wheels\\df\\5f\\45\\f1b7eb85e9586888e4804485ca9f69c8d124d77e3f494cbe17\n",
      "Successfully built geopandas\n",
      "Installing collected packages: geopandas\n",
      "  Attempting uninstall: geopandas\n",
      "    Found existing installation: geopandas 0.10.2\n",
      "    Uninstalling geopandas-0.10.2:\n",
      "      Successfully uninstalled geopandas-0.10.2\n",
      "Successfully installed geopandas-0+untagged.1504.g554d2ee\n"
     ]
    }
   ],
   "source": [
    "# Importing Libraries\n",
    "\n",
    "!pip install git+git://github.com/geopandas/geopandas.git\n",
    "import geopandas as gpd\n",
    "from geopy.geocoders import Nominatim\n",
    "import csv\n",
    "import numpy as np\n",
    "import pandas as pd\n",
    "import seaborn as sns\n",
    "import matplotlib.pyplot as plt\n",
    "from IPython.display import IFrame\n",
    "from matplotlib.pyplot import figure\n",
    "import matplotlib.patches as mpatches"
   ]
  },
  {
   "cell_type": "markdown",
   "id": "2e79804a",
   "metadata": {},
   "source": [
    "### Step 2: Import Datasets <a name=\"importdatasets\"></a>"
   ]
  },
  {
   "cell_type": "markdown",
   "id": "e2d61d31",
   "metadata": {},
   "source": [
    "By using built in Python methods such as `open`, we are able to instantiate a file reader to import the data found in the respective data sources."
   ]
  },
  {
   "cell_type": "code",
   "execution_count": 3,
   "id": "b17b6be3",
   "metadata": {},
   "outputs": [],
   "source": [
    "# Import Dataset 1\n",
    "with open('housing.csv') as csv_file:\n",
    "    csv_reader = csv.reader(csv_file, delimiter=',')\n",
    "    house_data = list(csv_reader)\n",
    "    \n",
    "# Import Dataset 2    \n",
    "with open('county.csv') as csv_file:\n",
    "    csv_reader = csv.reader(csv_file, delimiter=',')\n",
    "    county_data = list(csv_reader)\n",
    "    county_data = pd.DataFrame(county_data, columns=['county'])"
   ]
  },
  {
   "cell_type": "markdown",
   "id": "7d7e166f",
   "metadata": {},
   "source": [
    "*Note:* `Dataset 2` is yeilded from the *Nominatim* `API` (see below). However, as the result is large, due to a time constraints the `county.csv` file is introduced."
   ]
  },
  {
   "cell_type": "code",
   "execution_count": 38,
   "id": "368943d4",
   "metadata": {},
   "outputs": [],
   "source": [
    "#! Used this code to get the county names of each lat lng. It takes 172 mins to run fully so it was stored in a csv file named `county`\n",
    "# for index, row in newdf.iterrows():\n",
    "#     ans =  geolocator.reverse(row['latitude'] + \",\" + row['longitude']).raw['address'].get('county', '')\n",
    "#     row['county'] = ans\n",
    "#     print(str(index) +\":\" +row['county'])"
   ]
  },
  {
   "cell_type": "markdown",
   "id": "b1482325",
   "metadata": {},
   "source": [
    "### Step 3: Create Datasets <a name=\"createdatasets\"></a>"
   ]
  },
  {
   "cell_type": "markdown",
   "id": "141bc4b6",
   "metadata": {},
   "source": [
    "#### Create Housing Dataset <a name=\"housingdataset\"></a>"
   ]
  },
  {
   "cell_type": "markdown",
   "id": "11c2666d",
   "metadata": {},
   "source": [
    "It's time we prepare for work with Housing Market dataset. By utilizing the `pandas` library, we're able to transform a `csv` file into a `DataFrame` for further analysis."
   ]
  },
  {
   "cell_type": "code",
   "execution_count": 6,
   "id": "f2517e83",
   "metadata": {
    "scrolled": false
   },
   "outputs": [
    {
     "data": {
      "text/html": [
       "<div>\n",
       "<style scoped>\n",
       "    .dataframe tbody tr th:only-of-type {\n",
       "        vertical-align: middle;\n",
       "    }\n",
       "\n",
       "    .dataframe tbody tr th {\n",
       "        vertical-align: top;\n",
       "    }\n",
       "\n",
       "    .dataframe thead th {\n",
       "        text-align: right;\n",
       "    }\n",
       "</style>\n",
       "<table border=\"1\" class=\"dataframe\">\n",
       "  <thead>\n",
       "    <tr style=\"text-align: right;\">\n",
       "      <th></th>\n",
       "      <th>longitude</th>\n",
       "      <th>latitude</th>\n",
       "      <th>housing_median_age</th>\n",
       "      <th>total_rooms</th>\n",
       "      <th>total_bedrooms</th>\n",
       "      <th>population</th>\n",
       "      <th>households</th>\n",
       "      <th>median_income</th>\n",
       "      <th>median_house_value</th>\n",
       "      <th>ocean_proximity</th>\n",
       "    </tr>\n",
       "  </thead>\n",
       "  <tbody>\n",
       "    <tr>\n",
       "      <th>1</th>\n",
       "      <td>-122.23</td>\n",
       "      <td>37.88</td>\n",
       "      <td>41.0</td>\n",
       "      <td>880.0</td>\n",
       "      <td>129.0</td>\n",
       "      <td>322.0</td>\n",
       "      <td>126.0</td>\n",
       "      <td>8.3252</td>\n",
       "      <td>452600.0</td>\n",
       "      <td>NEAR BAY</td>\n",
       "    </tr>\n",
       "    <tr>\n",
       "      <th>2</th>\n",
       "      <td>-122.22</td>\n",
       "      <td>37.86</td>\n",
       "      <td>21.0</td>\n",
       "      <td>7099.0</td>\n",
       "      <td>1106.0</td>\n",
       "      <td>2401.0</td>\n",
       "      <td>1138.0</td>\n",
       "      <td>8.3014</td>\n",
       "      <td>358500.0</td>\n",
       "      <td>NEAR BAY</td>\n",
       "    </tr>\n",
       "    <tr>\n",
       "      <th>3</th>\n",
       "      <td>-122.24</td>\n",
       "      <td>37.85</td>\n",
       "      <td>52.0</td>\n",
       "      <td>1467.0</td>\n",
       "      <td>190.0</td>\n",
       "      <td>496.0</td>\n",
       "      <td>177.0</td>\n",
       "      <td>7.2574</td>\n",
       "      <td>352100.0</td>\n",
       "      <td>NEAR BAY</td>\n",
       "    </tr>\n",
       "    <tr>\n",
       "      <th>4</th>\n",
       "      <td>-122.25</td>\n",
       "      <td>37.85</td>\n",
       "      <td>52.0</td>\n",
       "      <td>1274.0</td>\n",
       "      <td>235.0</td>\n",
       "      <td>558.0</td>\n",
       "      <td>219.0</td>\n",
       "      <td>5.6431</td>\n",
       "      <td>341300.0</td>\n",
       "      <td>NEAR BAY</td>\n",
       "    </tr>\n",
       "    <tr>\n",
       "      <th>5</th>\n",
       "      <td>-122.25</td>\n",
       "      <td>37.85</td>\n",
       "      <td>52.0</td>\n",
       "      <td>1627.0</td>\n",
       "      <td>280.0</td>\n",
       "      <td>565.0</td>\n",
       "      <td>259.0</td>\n",
       "      <td>3.8462</td>\n",
       "      <td>342200.0</td>\n",
       "      <td>NEAR BAY</td>\n",
       "    </tr>\n",
       "    <tr>\n",
       "      <th>...</th>\n",
       "      <td>...</td>\n",
       "      <td>...</td>\n",
       "      <td>...</td>\n",
       "      <td>...</td>\n",
       "      <td>...</td>\n",
       "      <td>...</td>\n",
       "      <td>...</td>\n",
       "      <td>...</td>\n",
       "      <td>...</td>\n",
       "      <td>...</td>\n",
       "    </tr>\n",
       "    <tr>\n",
       "      <th>20636</th>\n",
       "      <td>-121.09</td>\n",
       "      <td>39.48</td>\n",
       "      <td>25.0</td>\n",
       "      <td>1665.0</td>\n",
       "      <td>374.0</td>\n",
       "      <td>845.0</td>\n",
       "      <td>330.0</td>\n",
       "      <td>1.5603</td>\n",
       "      <td>78100.0</td>\n",
       "      <td>INLAND</td>\n",
       "    </tr>\n",
       "    <tr>\n",
       "      <th>20637</th>\n",
       "      <td>-121.21</td>\n",
       "      <td>39.49</td>\n",
       "      <td>18.0</td>\n",
       "      <td>697.0</td>\n",
       "      <td>150.0</td>\n",
       "      <td>356.0</td>\n",
       "      <td>114.0</td>\n",
       "      <td>2.5568</td>\n",
       "      <td>77100.0</td>\n",
       "      <td>INLAND</td>\n",
       "    </tr>\n",
       "    <tr>\n",
       "      <th>20638</th>\n",
       "      <td>-121.22</td>\n",
       "      <td>39.43</td>\n",
       "      <td>17.0</td>\n",
       "      <td>2254.0</td>\n",
       "      <td>485.0</td>\n",
       "      <td>1007.0</td>\n",
       "      <td>433.0</td>\n",
       "      <td>1.7</td>\n",
       "      <td>92300.0</td>\n",
       "      <td>INLAND</td>\n",
       "    </tr>\n",
       "    <tr>\n",
       "      <th>20639</th>\n",
       "      <td>-121.32</td>\n",
       "      <td>39.43</td>\n",
       "      <td>18.0</td>\n",
       "      <td>1860.0</td>\n",
       "      <td>409.0</td>\n",
       "      <td>741.0</td>\n",
       "      <td>349.0</td>\n",
       "      <td>1.8672</td>\n",
       "      <td>84700.0</td>\n",
       "      <td>INLAND</td>\n",
       "    </tr>\n",
       "    <tr>\n",
       "      <th>20640</th>\n",
       "      <td>-121.24</td>\n",
       "      <td>39.37</td>\n",
       "      <td>16.0</td>\n",
       "      <td>2785.0</td>\n",
       "      <td>616.0</td>\n",
       "      <td>1387.0</td>\n",
       "      <td>530.0</td>\n",
       "      <td>2.3886</td>\n",
       "      <td>89400.0</td>\n",
       "      <td>INLAND</td>\n",
       "    </tr>\n",
       "  </tbody>\n",
       "</table>\n",
       "<p>20640 rows × 10 columns</p>\n",
       "</div>"
      ],
      "text/plain": [
       "      longitude latitude housing_median_age total_rooms total_bedrooms  \\\n",
       "1       -122.23    37.88               41.0       880.0          129.0   \n",
       "2       -122.22    37.86               21.0      7099.0         1106.0   \n",
       "3       -122.24    37.85               52.0      1467.0          190.0   \n",
       "4       -122.25    37.85               52.0      1274.0          235.0   \n",
       "5       -122.25    37.85               52.0      1627.0          280.0   \n",
       "...         ...      ...                ...         ...            ...   \n",
       "20636   -121.09    39.48               25.0      1665.0          374.0   \n",
       "20637   -121.21    39.49               18.0       697.0          150.0   \n",
       "20638   -121.22    39.43               17.0      2254.0          485.0   \n",
       "20639   -121.32    39.43               18.0      1860.0          409.0   \n",
       "20640   -121.24    39.37               16.0      2785.0          616.0   \n",
       "\n",
       "      population households median_income median_house_value ocean_proximity  \n",
       "1          322.0      126.0        8.3252           452600.0        NEAR BAY  \n",
       "2         2401.0     1138.0        8.3014           358500.0        NEAR BAY  \n",
       "3          496.0      177.0        7.2574           352100.0        NEAR BAY  \n",
       "4          558.0      219.0        5.6431           341300.0        NEAR BAY  \n",
       "5          565.0      259.0        3.8462           342200.0        NEAR BAY  \n",
       "...          ...        ...           ...                ...             ...  \n",
       "20636      845.0      330.0        1.5603            78100.0          INLAND  \n",
       "20637      356.0      114.0        2.5568            77100.0          INLAND  \n",
       "20638     1007.0      433.0           1.7            92300.0          INLAND  \n",
       "20639      741.0      349.0        1.8672            84700.0          INLAND  \n",
       "20640     1387.0      530.0        2.3886            89400.0          INLAND  \n",
       "\n",
       "[20640 rows x 10 columns]"
      ]
     },
     "execution_count": 6,
     "metadata": {},
     "output_type": "execute_result"
    }
   ],
   "source": [
    "# Creating the dataframe for Housing Market\n",
    "df = pd.DataFrame(house_data, columns=['longitude', 'latitude', 'housing_median_age', 'total_rooms', 'total_bedrooms', 'population', 'households', 'median_income', 'median_house_value', 'ocean_proximity'])\n",
    "df.drop(df.index[0], axis=0, inplace=True)\n",
    "df"
   ]
  },
  {
   "cell_type": "markdown",
   "id": "ebd9ba52",
   "metadata": {},
   "source": [
    "#### Create California County Dataset <a name=\"calicountydataset\"></a>"
   ]
  },
  {
   "cell_type": "markdown",
   "id": "48d22e6d",
   "metadata": {},
   "source": [
    "This is the California county dataset. With the inofrmation here, we were able to retrieve key geographical information about the counties within California. Once again, by utilizing the `pandas` library, we're able to transform a `csv` file into a `DataFrame` for further analysis."
   ]
  },
  {
   "cell_type": "code",
   "execution_count": 4,
   "id": "568ed496",
   "metadata": {
    "scrolled": false
   },
   "outputs": [
    {
     "data": {
      "text/html": [
       "<div>\n",
       "<style scoped>\n",
       "    .dataframe tbody tr th:only-of-type {\n",
       "        vertical-align: middle;\n",
       "    }\n",
       "\n",
       "    .dataframe tbody tr th {\n",
       "        vertical-align: top;\n",
       "    }\n",
       "\n",
       "    .dataframe thead th {\n",
       "        text-align: right;\n",
       "    }\n",
       "</style>\n",
       "<table border=\"1\" class=\"dataframe\">\n",
       "  <thead>\n",
       "    <tr style=\"text-align: right;\">\n",
       "      <th></th>\n",
       "      <th>STATEFP</th>\n",
       "      <th>COUNTYFP</th>\n",
       "      <th>COUNTYNS</th>\n",
       "      <th>GEOID</th>\n",
       "      <th>NAME</th>\n",
       "      <th>county</th>\n",
       "      <th>LSAD</th>\n",
       "      <th>CLASSFP</th>\n",
       "      <th>MTFCC</th>\n",
       "      <th>CSAFP</th>\n",
       "      <th>CBSAFP</th>\n",
       "      <th>METDIVFP</th>\n",
       "      <th>FUNCSTAT</th>\n",
       "      <th>ALAND</th>\n",
       "      <th>AWATER</th>\n",
       "      <th>INTPTLAT</th>\n",
       "      <th>INTPTLON</th>\n",
       "      <th>geometry</th>\n",
       "    </tr>\n",
       "  </thead>\n",
       "  <tbody>\n",
       "    <tr>\n",
       "      <th>0</th>\n",
       "      <td>06</td>\n",
       "      <td>091</td>\n",
       "      <td>00277310</td>\n",
       "      <td>06091</td>\n",
       "      <td>Sierra</td>\n",
       "      <td>Sierra County</td>\n",
       "      <td>06</td>\n",
       "      <td>H1</td>\n",
       "      <td>G4020</td>\n",
       "      <td>None</td>\n",
       "      <td>None</td>\n",
       "      <td>None</td>\n",
       "      <td>A</td>\n",
       "      <td>2468694587</td>\n",
       "      <td>23299110</td>\n",
       "      <td>+39.5769252</td>\n",
       "      <td>-120.5219926</td>\n",
       "      <td>POLYGON ((-13431319.751 4821511.426, -13431312...</td>\n",
       "    </tr>\n",
       "    <tr>\n",
       "      <th>1</th>\n",
       "      <td>06</td>\n",
       "      <td>067</td>\n",
       "      <td>00277298</td>\n",
       "      <td>06067</td>\n",
       "      <td>Sacramento</td>\n",
       "      <td>Sacramento County</td>\n",
       "      <td>06</td>\n",
       "      <td>H1</td>\n",
       "      <td>G4020</td>\n",
       "      <td>472</td>\n",
       "      <td>40900</td>\n",
       "      <td>None</td>\n",
       "      <td>A</td>\n",
       "      <td>2499183617</td>\n",
       "      <td>76073827</td>\n",
       "      <td>+38.4500114</td>\n",
       "      <td>-121.3404409</td>\n",
       "      <td>POLYGON ((-13490651.476 4680831.603, -13490511...</td>\n",
       "    </tr>\n",
       "    <tr>\n",
       "      <th>2</th>\n",
       "      <td>06</td>\n",
       "      <td>083</td>\n",
       "      <td>00277306</td>\n",
       "      <td>06083</td>\n",
       "      <td>Santa Barbara</td>\n",
       "      <td>Santa Barbara County</td>\n",
       "      <td>06</td>\n",
       "      <td>H1</td>\n",
       "      <td>G4020</td>\n",
       "      <td>None</td>\n",
       "      <td>42200</td>\n",
       "      <td>None</td>\n",
       "      <td>A</td>\n",
       "      <td>7084000598</td>\n",
       "      <td>2729814515</td>\n",
       "      <td>+34.5370572</td>\n",
       "      <td>-120.0399729</td>\n",
       "      <td>MULTIPOLYGON (((-13423116.772 4042044.149, -13...</td>\n",
       "    </tr>\n",
       "    <tr>\n",
       "      <th>3</th>\n",
       "      <td>06</td>\n",
       "      <td>009</td>\n",
       "      <td>01675885</td>\n",
       "      <td>06009</td>\n",
       "      <td>Calaveras</td>\n",
       "      <td>Calaveras County</td>\n",
       "      <td>06</td>\n",
       "      <td>H1</td>\n",
       "      <td>G4020</td>\n",
       "      <td>None</td>\n",
       "      <td>None</td>\n",
       "      <td>None</td>\n",
       "      <td>A</td>\n",
       "      <td>2641820834</td>\n",
       "      <td>43806026</td>\n",
       "      <td>+38.1838996</td>\n",
       "      <td>-120.5614415</td>\n",
       "      <td>POLYGON ((-13428575.483 4627725.228, -13428534...</td>\n",
       "    </tr>\n",
       "    <tr>\n",
       "      <th>4</th>\n",
       "      <td>06</td>\n",
       "      <td>111</td>\n",
       "      <td>00277320</td>\n",
       "      <td>06111</td>\n",
       "      <td>Ventura</td>\n",
       "      <td>Ventura County</td>\n",
       "      <td>06</td>\n",
       "      <td>H1</td>\n",
       "      <td>G4020</td>\n",
       "      <td>348</td>\n",
       "      <td>37100</td>\n",
       "      <td>None</td>\n",
       "      <td>A</td>\n",
       "      <td>4773390489</td>\n",
       "      <td>945942791</td>\n",
       "      <td>+34.3587415</td>\n",
       "      <td>-119.1331432</td>\n",
       "      <td>MULTIPOLYGON (((-13317853.594 3931602.414, -13...</td>\n",
       "    </tr>\n",
       "  </tbody>\n",
       "</table>\n",
       "</div>"
      ],
      "text/plain": [
       "  STATEFP COUNTYFP  COUNTYNS  GEOID           NAME                county LSAD  \\\n",
       "0      06      091  00277310  06091         Sierra         Sierra County   06   \n",
       "1      06      067  00277298  06067     Sacramento     Sacramento County   06   \n",
       "2      06      083  00277306  06083  Santa Barbara  Santa Barbara County   06   \n",
       "3      06      009  01675885  06009      Calaveras      Calaveras County   06   \n",
       "4      06      111  00277320  06111        Ventura        Ventura County   06   \n",
       "\n",
       "  CLASSFP  MTFCC CSAFP CBSAFP METDIVFP FUNCSTAT       ALAND      AWATER  \\\n",
       "0      H1  G4020  None   None     None        A  2468694587    23299110   \n",
       "1      H1  G4020   472  40900     None        A  2499183617    76073827   \n",
       "2      H1  G4020  None  42200     None        A  7084000598  2729814515   \n",
       "3      H1  G4020  None   None     None        A  2641820834    43806026   \n",
       "4      H1  G4020   348  37100     None        A  4773390489   945942791   \n",
       "\n",
       "      INTPTLAT      INTPTLON  \\\n",
       "0  +39.5769252  -120.5219926   \n",
       "1  +38.4500114  -121.3404409   \n",
       "2  +34.5370572  -120.0399729   \n",
       "3  +38.1838996  -120.5614415   \n",
       "4  +34.3587415  -119.1331432   \n",
       "\n",
       "                                            geometry  \n",
       "0  POLYGON ((-13431319.751 4821511.426, -13431312...  \n",
       "1  POLYGON ((-13490651.476 4680831.603, -13490511...  \n",
       "2  MULTIPOLYGON (((-13423116.772 4042044.149, -13...  \n",
       "3  POLYGON ((-13428575.483 4627725.228, -13428534...  \n",
       "4  MULTIPOLYGON (((-13317853.594 3931602.414, -13...  "
      ]
     },
     "execution_count": 4,
     "metadata": {},
     "output_type": "execute_result"
    }
   ],
   "source": [
    "# Creating the dataframe for California Counties\n",
    "nb = 'CA_Counties/CA_Counties_TIGER2016.shp'\n",
    "regions = gpd.read_file(nb)\n",
    "regions.rename(columns={'NAMELSAD': 'county'}, inplace=True);\n",
    "regions.head()"
   ]
  },
  {
   "cell_type": "markdown",
   "id": "1f4d38b7",
   "metadata": {},
   "source": [
    "## Analysis of The Data <a name=\"analysis\"></a>\n",
    "Click [here](#toc) to return to Table of Contents"
   ]
  },
  {
   "cell_type": "markdown",
   "id": "ae9d716d",
   "metadata": {},
   "source": [
    "When it comes to analyzing data, the first step is to view it in its raw form. Then we must clean it and prepare it for transformations, manipulations, and interpolations.\n",
    "\n",
    "*Note:* `Dataset 2` is already cleaned, prior to importing."
   ]
  },
  {
   "cell_type": "markdown",
   "id": "5b1bc448",
   "metadata": {},
   "source": [
    "### Step 1: Analyze Dataset 1 <a name=\"analyzedataset1\"></a>"
   ]
  },
  {
   "cell_type": "markdown",
   "id": "2a1010e1",
   "metadata": {},
   "source": [
    "#### Describe the Data <a name=\"describedataset1\"></a>"
   ]
  },
  {
   "cell_type": "markdown",
   "id": "2337ad31",
   "metadata": {},
   "source": [
    "To get started with the analysis, our first step would be to use a well-known `pandas` function, called `describe`. The result here will showcase key details that can outline potential issues in the data."
   ]
  },
  {
   "cell_type": "code",
   "execution_count": 7,
   "id": "be43e707",
   "metadata": {
    "scrolled": true
   },
   "outputs": [
    {
     "data": {
      "text/html": [
       "<div>\n",
       "<style scoped>\n",
       "    .dataframe tbody tr th:only-of-type {\n",
       "        vertical-align: middle;\n",
       "    }\n",
       "\n",
       "    .dataframe tbody tr th {\n",
       "        vertical-align: top;\n",
       "    }\n",
       "\n",
       "    .dataframe thead th {\n",
       "        text-align: right;\n",
       "    }\n",
       "</style>\n",
       "<table border=\"1\" class=\"dataframe\">\n",
       "  <thead>\n",
       "    <tr style=\"text-align: right;\">\n",
       "      <th></th>\n",
       "      <th>longitude</th>\n",
       "      <th>latitude</th>\n",
       "      <th>housing_median_age</th>\n",
       "      <th>total_rooms</th>\n",
       "      <th>total_bedrooms</th>\n",
       "      <th>population</th>\n",
       "      <th>households</th>\n",
       "      <th>median_income</th>\n",
       "      <th>median_house_value</th>\n",
       "      <th>ocean_proximity</th>\n",
       "    </tr>\n",
       "  </thead>\n",
       "  <tbody>\n",
       "    <tr>\n",
       "      <th>count</th>\n",
       "      <td>20640</td>\n",
       "      <td>20640</td>\n",
       "      <td>20640</td>\n",
       "      <td>20640</td>\n",
       "      <td>20640</td>\n",
       "      <td>20640</td>\n",
       "      <td>20640</td>\n",
       "      <td>20640</td>\n",
       "      <td>20640</td>\n",
       "      <td>20640</td>\n",
       "    </tr>\n",
       "    <tr>\n",
       "      <th>unique</th>\n",
       "      <td>844</td>\n",
       "      <td>862</td>\n",
       "      <td>52</td>\n",
       "      <td>5926</td>\n",
       "      <td>1924</td>\n",
       "      <td>3888</td>\n",
       "      <td>1815</td>\n",
       "      <td>12928</td>\n",
       "      <td>3842</td>\n",
       "      <td>5</td>\n",
       "    </tr>\n",
       "    <tr>\n",
       "      <th>top</th>\n",
       "      <td>-118.31</td>\n",
       "      <td>34.06</td>\n",
       "      <td>52.0</td>\n",
       "      <td>1527.0</td>\n",
       "      <td></td>\n",
       "      <td>891.0</td>\n",
       "      <td>306.0</td>\n",
       "      <td>3.125</td>\n",
       "      <td>500001.0</td>\n",
       "      <td>&lt;1H OCEAN</td>\n",
       "    </tr>\n",
       "    <tr>\n",
       "      <th>freq</th>\n",
       "      <td>162</td>\n",
       "      <td>244</td>\n",
       "      <td>1273</td>\n",
       "      <td>18</td>\n",
       "      <td>207</td>\n",
       "      <td>25</td>\n",
       "      <td>57</td>\n",
       "      <td>49</td>\n",
       "      <td>965</td>\n",
       "      <td>9136</td>\n",
       "    </tr>\n",
       "  </tbody>\n",
       "</table>\n",
       "</div>"
      ],
      "text/plain": [
       "       longitude latitude housing_median_age total_rooms total_bedrooms  \\\n",
       "count      20640    20640              20640       20640          20640   \n",
       "unique       844      862                 52        5926           1924   \n",
       "top      -118.31    34.06               52.0      1527.0                  \n",
       "freq         162      244               1273          18            207   \n",
       "\n",
       "       population households median_income median_house_value ocean_proximity  \n",
       "count       20640      20640         20640              20640           20640  \n",
       "unique       3888       1815         12928               3842               5  \n",
       "top         891.0      306.0         3.125           500001.0       <1H OCEAN  \n",
       "freq           25         57            49                965            9136  "
      ]
     },
     "execution_count": 7,
     "metadata": {},
     "output_type": "execute_result"
    }
   ],
   "source": [
    "# Describe the data before cleaning\n",
    "df.describe()"
   ]
  },
  {
   "cell_type": "markdown",
   "id": "e2e253b9",
   "metadata": {},
   "source": [
    "#### Locate Rows with Empty Records <a name=\"locateemptydataset1\"></a>"
   ]
  },
  {
   "cell_type": "markdown",
   "id": "0cb4374c",
   "metadata": {},
   "source": [
    "The `describe` function gives away a very important clue - there are records which might be empty. As you can see from the next result, this happens to be true. To acheive this, we rely on `numpy` for its `where` fuction, the `apply` function in `pandas`, and `lambda calculus` for a thorough check on how many empty entries there truly are."
   ]
  },
  {
   "cell_type": "code",
   "execution_count": 8,
   "id": "0b2868c0",
   "metadata": {},
   "outputs": [
    {
     "data": {
      "text/plain": [
       "207"
      ]
     },
     "execution_count": 8,
     "metadata": {},
     "output_type": "execute_result"
    }
   ],
   "source": [
    "# Get count for how many total_bedrooms records are empty\n",
    "empties = np.where(df.applymap(lambda x: x == ''))\n",
    "len(empties[0])"
   ]
  },
  {
   "cell_type": "markdown",
   "id": "ff70d116",
   "metadata": {},
   "source": [
    "Now that we know our check worked, we can highlight where they are by simply printing out the `array` that they were stored in. The first shows the rows where the fields are empty. While the second `array` shows the corresponding `columns` where those `rows` are empty.\n",
    "\n",
    "*Note: `Index` starts at 0.*"
   ]
  },
  {
   "cell_type": "code",
   "execution_count": 9,
   "id": "f1b477e8",
   "metadata": {},
   "outputs": [
    {
     "data": {
      "text/plain": [
       "(array([  290,   341,   538,   563,   696,   738,  1097,  1350,  1456,\n",
       "         1493,  1606,  2028,  2115,  2301,  2323,  2334,  2351,  2412,\n",
       "         2420,  2578,  2608,  2647,  2826,  3024,  3328,  3354,  3376,\n",
       "         3482,  3485,  3529,  3721,  3778,  3912,  3921,  3958,  4043,\n",
       "         4046,  4186,  4279,  4309,  4391,  4447,  4496,  4591,  4600,\n",
       "         4629,  4667,  4691,  4738,  4743,  4744,  4767,  4852,  5059,\n",
       "         5216,  5222,  5236,  5654,  5665,  5678,  5723,  5751,  5990,\n",
       "         6052,  6068,  6220,  6241,  6253,  6298,  6421,  6541,  6590,\n",
       "         6814,  6835,  6962,  7097,  7113,  7168,  7191,  7228,  7316,\n",
       "         7330,  7547,  7654,  7668,  7763,  7806,  8337,  8383,  8530,\n",
       "         8915,  9149,  9571,  9620,  9622,  9814,  9845,  9877,  9942,\n",
       "         9970, 10033, 10216, 10236, 10385, 10389, 10428, 10495, 10761,\n",
       "        10885, 10915, 11096, 11311, 11351, 11441, 11449, 11512, 11741,\n",
       "        12101, 12414, 12570, 12809, 13015, 13069, 13311, 13332, 13336,\n",
       "        13597, 13656, 13706, 13925, 13932, 13933, 14015, 14152, 14173,\n",
       "        14307, 14331, 14386, 14462, 14521, 14641, 14930, 14970, 14986,\n",
       "        15030, 15060, 15118, 15137, 15397, 15479, 15607, 15663, 15890,\n",
       "        15975, 16025, 16038, 16104, 16105, 16330, 16757, 16879, 16880,\n",
       "        16885, 17041, 17198, 17202, 17639, 17825, 17840, 17923, 17928,\n",
       "        17973, 18177, 18246, 18261, 18332, 18346, 18466, 18786, 18873,\n",
       "        18914, 19060, 19071, 19122, 19150, 19252, 19332, 19391, 19402,\n",
       "        19485, 19559, 19607, 19638, 19766, 19818, 19833, 19890, 19932,\n",
       "        19959, 20046, 20069, 20125, 20267, 20268, 20372, 20460, 20484],\n",
       "       dtype=int64),\n",
       " array([4, 4, 4, 4, 4, 4, 4, 4, 4, 4, 4, 4, 4, 4, 4, 4, 4, 4, 4, 4, 4, 4,\n",
       "        4, 4, 4, 4, 4, 4, 4, 4, 4, 4, 4, 4, 4, 4, 4, 4, 4, 4, 4, 4, 4, 4,\n",
       "        4, 4, 4, 4, 4, 4, 4, 4, 4, 4, 4, 4, 4, 4, 4, 4, 4, 4, 4, 4, 4, 4,\n",
       "        4, 4, 4, 4, 4, 4, 4, 4, 4, 4, 4, 4, 4, 4, 4, 4, 4, 4, 4, 4, 4, 4,\n",
       "        4, 4, 4, 4, 4, 4, 4, 4, 4, 4, 4, 4, 4, 4, 4, 4, 4, 4, 4, 4, 4, 4,\n",
       "        4, 4, 4, 4, 4, 4, 4, 4, 4, 4, 4, 4, 4, 4, 4, 4, 4, 4, 4, 4, 4, 4,\n",
       "        4, 4, 4, 4, 4, 4, 4, 4, 4, 4, 4, 4, 4, 4, 4, 4, 4, 4, 4, 4, 4, 4,\n",
       "        4, 4, 4, 4, 4, 4, 4, 4, 4, 4, 4, 4, 4, 4, 4, 4, 4, 4, 4, 4, 4, 4,\n",
       "        4, 4, 4, 4, 4, 4, 4, 4, 4, 4, 4, 4, 4, 4, 4, 4, 4, 4, 4, 4, 4, 4,\n",
       "        4, 4, 4, 4, 4, 4, 4, 4, 4], dtype=int64))"
      ]
     },
     "execution_count": 9,
     "metadata": {},
     "output_type": "execute_result"
    }
   ],
   "source": [
    "# Find entries in dataset where the total_bedroom data is missing\n",
    "empties"
   ]
  },
  {
   "cell_type": "markdown",
   "id": "b3fa3058",
   "metadata": {},
   "source": [
    "For a better understanding on which column have the empty cell, we can use the `loc` function built in to `pandas` and display the respective entry in much greater detail. Notice that the values from the `array` `empties` need to be incremented by 1, so that the correct `row` can be displayed. This is because of the `indexing` rules built into the `where` function."
   ]
  },
  {
   "cell_type": "code",
   "execution_count": 44,
   "id": "3556d4eb",
   "metadata": {},
   "outputs": [
    {
     "name": "stdout",
     "output_type": "stream",
     "text": [
      "    longitude latitude housing_median_age total_rooms total_bedrooms  \\\n",
      "342   -122.17    37.75               38.0       992.0                  \n",
      "\n",
      "    population households median_income median_house_value ocean_proximity  \n",
      "342      732.0      259.0        1.6196            85100.0        NEAR BAY  \n"
     ]
    }
   ],
   "source": [
    "# Show before\n",
    "print(df.loc[[342]])"
   ]
  },
  {
   "cell_type": "markdown",
   "id": "51f08e41",
   "metadata": {},
   "source": [
    "#### Remove Empty Records <a name=\"removeemptydataset1\"></a>"
   ]
  },
  {
   "cell_type": "markdown",
   "id": "5282efa5",
   "metadata": {},
   "source": [
    "Now that we've found issues in the `raw data`, it's time we clean it up so that it becomes more usable. To remove the `rows` with blank cells correctly, the blanks have to be replaced with `NaN` (*Not A Number*) values before they could be dropped. To accomplish this, a function from the `pandas` library named `replace` was used in conjunction with, `nan` and `dropna`."
   ]
  },
  {
   "cell_type": "code",
   "execution_count": 10,
   "id": "ff5a8324",
   "metadata": {},
   "outputs": [],
   "source": [
    "# Replace empty data findings from total_bedroom, set to NA and then dropna\n",
    "df['total_bedrooms'].replace('', np.nan, inplace=True)\n",
    "df.dropna(inplace=True)"
   ]
  },
  {
   "cell_type": "markdown",
   "id": "20ca5c03",
   "metadata": {},
   "source": [
    "Once again, let's check the same record to make sure it no longer exsists.\n",
    "\n",
    "*Note: The following error is expected.*"
   ]
  },
  {
   "cell_type": "code",
   "execution_count": 46,
   "id": "d824b6f8",
   "metadata": {
    "scrolled": true
   },
   "outputs": [
    {
     "ename": "KeyError",
     "evalue": "\"None of [Int64Index([342], dtype='int64')] are in the [index]\"",
     "output_type": "error",
     "traceback": [
      "\u001b[1;31m---------------------------------------------------------------------------\u001b[0m",
      "\u001b[1;31mKeyError\u001b[0m                                  Traceback (most recent call last)",
      "\u001b[1;32m~\\AppData\\Local\\Temp/ipykernel_1368/4256857684.py\u001b[0m in \u001b[0;36m<module>\u001b[1;34m\u001b[0m\n\u001b[0;32m      1\u001b[0m \u001b[1;31m# Show after - record is now missing\u001b[0m\u001b[1;33m\u001b[0m\u001b[1;33m\u001b[0m\u001b[1;33m\u001b[0m\u001b[0m\n\u001b[0;32m      2\u001b[0m \u001b[1;31m# ERROR IS EXPECTED\u001b[0m\u001b[1;33m\u001b[0m\u001b[1;33m\u001b[0m\u001b[1;33m\u001b[0m\u001b[0m\n\u001b[1;32m----> 3\u001b[1;33m \u001b[0mprint\u001b[0m\u001b[1;33m(\u001b[0m\u001b[0mdf\u001b[0m\u001b[1;33m.\u001b[0m\u001b[0mloc\u001b[0m\u001b[1;33m[\u001b[0m\u001b[1;33m[\u001b[0m\u001b[1;36m342\u001b[0m\u001b[1;33m]\u001b[0m\u001b[1;33m]\u001b[0m\u001b[1;33m)\u001b[0m\u001b[1;33m\u001b[0m\u001b[1;33m\u001b[0m\u001b[0m\n\u001b[0m",
      "\u001b[1;32m~\\AppData\\Local\\Programs\\Python\\Python39\\lib\\site-packages\\pandas\\core\\indexing.py\u001b[0m in \u001b[0;36m__getitem__\u001b[1;34m(self, key)\u001b[0m\n\u001b[0;32m    929\u001b[0m \u001b[1;33m\u001b[0m\u001b[0m\n\u001b[0;32m    930\u001b[0m             \u001b[0mmaybe_callable\u001b[0m \u001b[1;33m=\u001b[0m \u001b[0mcom\u001b[0m\u001b[1;33m.\u001b[0m\u001b[0mapply_if_callable\u001b[0m\u001b[1;33m(\u001b[0m\u001b[0mkey\u001b[0m\u001b[1;33m,\u001b[0m \u001b[0mself\u001b[0m\u001b[1;33m.\u001b[0m\u001b[0mobj\u001b[0m\u001b[1;33m)\u001b[0m\u001b[1;33m\u001b[0m\u001b[1;33m\u001b[0m\u001b[0m\n\u001b[1;32m--> 931\u001b[1;33m             \u001b[1;32mreturn\u001b[0m \u001b[0mself\u001b[0m\u001b[1;33m.\u001b[0m\u001b[0m_getitem_axis\u001b[0m\u001b[1;33m(\u001b[0m\u001b[0mmaybe_callable\u001b[0m\u001b[1;33m,\u001b[0m \u001b[0maxis\u001b[0m\u001b[1;33m=\u001b[0m\u001b[0maxis\u001b[0m\u001b[1;33m)\u001b[0m\u001b[1;33m\u001b[0m\u001b[1;33m\u001b[0m\u001b[0m\n\u001b[0m\u001b[0;32m    932\u001b[0m \u001b[1;33m\u001b[0m\u001b[0m\n\u001b[0;32m    933\u001b[0m     \u001b[1;32mdef\u001b[0m \u001b[0m_is_scalar_access\u001b[0m\u001b[1;33m(\u001b[0m\u001b[0mself\u001b[0m\u001b[1;33m,\u001b[0m \u001b[0mkey\u001b[0m\u001b[1;33m:\u001b[0m \u001b[0mtuple\u001b[0m\u001b[1;33m)\u001b[0m\u001b[1;33m:\u001b[0m\u001b[1;33m\u001b[0m\u001b[1;33m\u001b[0m\u001b[0m\n",
      "\u001b[1;32m~\\AppData\\Local\\Programs\\Python\\Python39\\lib\\site-packages\\pandas\\core\\indexing.py\u001b[0m in \u001b[0;36m_getitem_axis\u001b[1;34m(self, key, axis)\u001b[0m\n\u001b[0;32m   1151\u001b[0m                     \u001b[1;32mraise\u001b[0m \u001b[0mValueError\u001b[0m\u001b[1;33m(\u001b[0m\u001b[1;34m\"Cannot index with multidimensional key\"\u001b[0m\u001b[1;33m)\u001b[0m\u001b[1;33m\u001b[0m\u001b[1;33m\u001b[0m\u001b[0m\n\u001b[0;32m   1152\u001b[0m \u001b[1;33m\u001b[0m\u001b[0m\n\u001b[1;32m-> 1153\u001b[1;33m                 \u001b[1;32mreturn\u001b[0m \u001b[0mself\u001b[0m\u001b[1;33m.\u001b[0m\u001b[0m_getitem_iterable\u001b[0m\u001b[1;33m(\u001b[0m\u001b[0mkey\u001b[0m\u001b[1;33m,\u001b[0m \u001b[0maxis\u001b[0m\u001b[1;33m=\u001b[0m\u001b[0maxis\u001b[0m\u001b[1;33m)\u001b[0m\u001b[1;33m\u001b[0m\u001b[1;33m\u001b[0m\u001b[0m\n\u001b[0m\u001b[0;32m   1154\u001b[0m \u001b[1;33m\u001b[0m\u001b[0m\n\u001b[0;32m   1155\u001b[0m             \u001b[1;31m# nested tuple slicing\u001b[0m\u001b[1;33m\u001b[0m\u001b[1;33m\u001b[0m\u001b[1;33m\u001b[0m\u001b[0m\n",
      "\u001b[1;32m~\\AppData\\Local\\Programs\\Python\\Python39\\lib\\site-packages\\pandas\\core\\indexing.py\u001b[0m in \u001b[0;36m_getitem_iterable\u001b[1;34m(self, key, axis)\u001b[0m\n\u001b[0;32m   1091\u001b[0m \u001b[1;33m\u001b[0m\u001b[0m\n\u001b[0;32m   1092\u001b[0m         \u001b[1;31m# A collection of keys\u001b[0m\u001b[1;33m\u001b[0m\u001b[1;33m\u001b[0m\u001b[1;33m\u001b[0m\u001b[0m\n\u001b[1;32m-> 1093\u001b[1;33m         \u001b[0mkeyarr\u001b[0m\u001b[1;33m,\u001b[0m \u001b[0mindexer\u001b[0m \u001b[1;33m=\u001b[0m \u001b[0mself\u001b[0m\u001b[1;33m.\u001b[0m\u001b[0m_get_listlike_indexer\u001b[0m\u001b[1;33m(\u001b[0m\u001b[0mkey\u001b[0m\u001b[1;33m,\u001b[0m \u001b[0maxis\u001b[0m\u001b[1;33m)\u001b[0m\u001b[1;33m\u001b[0m\u001b[1;33m\u001b[0m\u001b[0m\n\u001b[0m\u001b[0;32m   1094\u001b[0m         return self.obj._reindex_with_indexers(\n\u001b[0;32m   1095\u001b[0m             \u001b[1;33m{\u001b[0m\u001b[0maxis\u001b[0m\u001b[1;33m:\u001b[0m \u001b[1;33m[\u001b[0m\u001b[0mkeyarr\u001b[0m\u001b[1;33m,\u001b[0m \u001b[0mindexer\u001b[0m\u001b[1;33m]\u001b[0m\u001b[1;33m}\u001b[0m\u001b[1;33m,\u001b[0m \u001b[0mcopy\u001b[0m\u001b[1;33m=\u001b[0m\u001b[1;32mTrue\u001b[0m\u001b[1;33m,\u001b[0m \u001b[0mallow_dups\u001b[0m\u001b[1;33m=\u001b[0m\u001b[1;32mTrue\u001b[0m\u001b[1;33m\u001b[0m\u001b[1;33m\u001b[0m\u001b[0m\n",
      "\u001b[1;32m~\\AppData\\Local\\Programs\\Python\\Python39\\lib\\site-packages\\pandas\\core\\indexing.py\u001b[0m in \u001b[0;36m_get_listlike_indexer\u001b[1;34m(self, key, axis)\u001b[0m\n\u001b[0;32m   1312\u001b[0m             \u001b[0mkeyarr\u001b[0m\u001b[1;33m,\u001b[0m \u001b[0mindexer\u001b[0m\u001b[1;33m,\u001b[0m \u001b[0mnew_indexer\u001b[0m \u001b[1;33m=\u001b[0m \u001b[0max\u001b[0m\u001b[1;33m.\u001b[0m\u001b[0m_reindex_non_unique\u001b[0m\u001b[1;33m(\u001b[0m\u001b[0mkeyarr\u001b[0m\u001b[1;33m)\u001b[0m\u001b[1;33m\u001b[0m\u001b[1;33m\u001b[0m\u001b[0m\n\u001b[0;32m   1313\u001b[0m \u001b[1;33m\u001b[0m\u001b[0m\n\u001b[1;32m-> 1314\u001b[1;33m         \u001b[0mself\u001b[0m\u001b[1;33m.\u001b[0m\u001b[0m_validate_read_indexer\u001b[0m\u001b[1;33m(\u001b[0m\u001b[0mkeyarr\u001b[0m\u001b[1;33m,\u001b[0m \u001b[0mindexer\u001b[0m\u001b[1;33m,\u001b[0m \u001b[0maxis\u001b[0m\u001b[1;33m)\u001b[0m\u001b[1;33m\u001b[0m\u001b[1;33m\u001b[0m\u001b[0m\n\u001b[0m\u001b[0;32m   1315\u001b[0m \u001b[1;33m\u001b[0m\u001b[0m\n\u001b[0;32m   1316\u001b[0m         if needs_i8_conversion(ax.dtype) or isinstance(\n",
      "\u001b[1;32m~\\AppData\\Local\\Programs\\Python\\Python39\\lib\\site-packages\\pandas\\core\\indexing.py\u001b[0m in \u001b[0;36m_validate_read_indexer\u001b[1;34m(self, key, indexer, axis)\u001b[0m\n\u001b[0;32m   1372\u001b[0m                 \u001b[1;32mif\u001b[0m \u001b[0muse_interval_msg\u001b[0m\u001b[1;33m:\u001b[0m\u001b[1;33m\u001b[0m\u001b[1;33m\u001b[0m\u001b[0m\n\u001b[0;32m   1373\u001b[0m                     \u001b[0mkey\u001b[0m \u001b[1;33m=\u001b[0m \u001b[0mlist\u001b[0m\u001b[1;33m(\u001b[0m\u001b[0mkey\u001b[0m\u001b[1;33m)\u001b[0m\u001b[1;33m\u001b[0m\u001b[1;33m\u001b[0m\u001b[0m\n\u001b[1;32m-> 1374\u001b[1;33m                 \u001b[1;32mraise\u001b[0m \u001b[0mKeyError\u001b[0m\u001b[1;33m(\u001b[0m\u001b[1;34mf\"None of [{key}] are in the [{axis_name}]\"\u001b[0m\u001b[1;33m)\u001b[0m\u001b[1;33m\u001b[0m\u001b[1;33m\u001b[0m\u001b[0m\n\u001b[0m\u001b[0;32m   1375\u001b[0m \u001b[1;33m\u001b[0m\u001b[0m\n\u001b[0;32m   1376\u001b[0m             \u001b[0mnot_found\u001b[0m \u001b[1;33m=\u001b[0m \u001b[0mlist\u001b[0m\u001b[1;33m(\u001b[0m\u001b[0mensure_index\u001b[0m\u001b[1;33m(\u001b[0m\u001b[0mkey\u001b[0m\u001b[1;33m)\u001b[0m\u001b[1;33m[\u001b[0m\u001b[0mmissing_mask\u001b[0m\u001b[1;33m.\u001b[0m\u001b[0mnonzero\u001b[0m\u001b[1;33m(\u001b[0m\u001b[1;33m)\u001b[0m\u001b[1;33m[\u001b[0m\u001b[1;36m0\u001b[0m\u001b[1;33m]\u001b[0m\u001b[1;33m]\u001b[0m\u001b[1;33m.\u001b[0m\u001b[0munique\u001b[0m\u001b[1;33m(\u001b[0m\u001b[1;33m)\u001b[0m\u001b[1;33m)\u001b[0m\u001b[1;33m\u001b[0m\u001b[1;33m\u001b[0m\u001b[0m\n",
      "\u001b[1;31mKeyError\u001b[0m: \"None of [Int64Index([342], dtype='int64')] are in the [index]\""
     ]
    }
   ],
   "source": [
    "# Show after - record is now missing\n",
    "# ERROR IS EXPECTED\n",
    "print(df.loc[[342]])"
   ]
  },
  {
   "cell_type": "markdown",
   "id": "03cb8481",
   "metadata": {},
   "source": [
    "The error above confirms that the record which contained an empty cell has been removed successfully - in fact they all have. Let's confirm by using `describe` once again to view the updated details as we did before. Notice, the `count` is now lower."
   ]
  },
  {
   "cell_type": "code",
   "execution_count": 48,
   "id": "01a39fc4",
   "metadata": {
    "scrolled": false
   },
   "outputs": [
    {
     "data": {
      "text/html": [
       "<div>\n",
       "<style scoped>\n",
       "    .dataframe tbody tr th:only-of-type {\n",
       "        vertical-align: middle;\n",
       "    }\n",
       "\n",
       "    .dataframe tbody tr th {\n",
       "        vertical-align: top;\n",
       "    }\n",
       "\n",
       "    .dataframe thead th {\n",
       "        text-align: right;\n",
       "    }\n",
       "</style>\n",
       "<table border=\"1\" class=\"dataframe\">\n",
       "  <thead>\n",
       "    <tr style=\"text-align: right;\">\n",
       "      <th></th>\n",
       "      <th>longitude</th>\n",
       "      <th>latitude</th>\n",
       "      <th>housing_median_age</th>\n",
       "      <th>total_rooms</th>\n",
       "      <th>total_bedrooms</th>\n",
       "      <th>population</th>\n",
       "      <th>households</th>\n",
       "      <th>median_income</th>\n",
       "      <th>median_house_value</th>\n",
       "      <th>ocean_proximity</th>\n",
       "    </tr>\n",
       "  </thead>\n",
       "  <tbody>\n",
       "    <tr>\n",
       "      <th>count</th>\n",
       "      <td>20433</td>\n",
       "      <td>20433</td>\n",
       "      <td>20433</td>\n",
       "      <td>20433</td>\n",
       "      <td>20433</td>\n",
       "      <td>20433</td>\n",
       "      <td>20433</td>\n",
       "      <td>20433</td>\n",
       "      <td>20433</td>\n",
       "      <td>20433</td>\n",
       "    </tr>\n",
       "    <tr>\n",
       "      <th>unique</th>\n",
       "      <td>844</td>\n",
       "      <td>861</td>\n",
       "      <td>52</td>\n",
       "      <td>5911</td>\n",
       "      <td>1923</td>\n",
       "      <td>3879</td>\n",
       "      <td>1809</td>\n",
       "      <td>12825</td>\n",
       "      <td>3833</td>\n",
       "      <td>5</td>\n",
       "    </tr>\n",
       "    <tr>\n",
       "      <th>top</th>\n",
       "      <td>-118.31</td>\n",
       "      <td>34.06</td>\n",
       "      <td>52.0</td>\n",
       "      <td>1527.0</td>\n",
       "      <td>280.0</td>\n",
       "      <td>891.0</td>\n",
       "      <td>306.0</td>\n",
       "      <td>3.125</td>\n",
       "      <td>500001.0</td>\n",
       "      <td>&lt;1H OCEAN</td>\n",
       "    </tr>\n",
       "    <tr>\n",
       "      <th>freq</th>\n",
       "      <td>159</td>\n",
       "      <td>241</td>\n",
       "      <td>1265</td>\n",
       "      <td>18</td>\n",
       "      <td>55</td>\n",
       "      <td>25</td>\n",
       "      <td>57</td>\n",
       "      <td>49</td>\n",
       "      <td>958</td>\n",
       "      <td>9034</td>\n",
       "    </tr>\n",
       "  </tbody>\n",
       "</table>\n",
       "</div>"
      ],
      "text/plain": [
       "       longitude latitude housing_median_age total_rooms total_bedrooms  \\\n",
       "count      20433    20433              20433       20433          20433   \n",
       "unique       844      861                 52        5911           1923   \n",
       "top      -118.31    34.06               52.0      1527.0          280.0   \n",
       "freq         159      241               1265          18             55   \n",
       "\n",
       "       population households median_income median_house_value ocean_proximity  \n",
       "count       20433      20433         20433              20433           20433  \n",
       "unique       3879       1809         12825               3833               5  \n",
       "top         891.0      306.0         3.125           500001.0       <1H OCEAN  \n",
       "freq           25         57            49                958            9034  "
      ]
     },
     "execution_count": 48,
     "metadata": {},
     "output_type": "execute_result"
    }
   ],
   "source": [
    "# Describe the data after cleaning\n",
    "df.describe()"
   ]
  },
  {
   "cell_type": "markdown",
   "id": "82183167",
   "metadata": {},
   "source": [
    "A deeper look at the numbers with packages found in the `numpy` and `pandas` libraries will further showcase statistics that will yield good to know later on. The `describe` function was utilitzed in conjunction with `astype` this time to achive the desired results. Information was specifically retrieved for the following columns: `population`, `median income`, `housing median age`, and `median house value` as these columns will be explored further later on.\n",
    "\n",
    "*Note: The numerical data was `typecasted` as a `float`*"
   ]
  },
  {
   "cell_type": "code",
   "execution_count": 49,
   "id": "220ab602",
   "metadata": {},
   "outputs": [
    {
     "data": {
      "text/html": [
       "<div>\n",
       "<style scoped>\n",
       "    .dataframe tbody tr th:only-of-type {\n",
       "        vertical-align: middle;\n",
       "    }\n",
       "\n",
       "    .dataframe tbody tr th {\n",
       "        vertical-align: top;\n",
       "    }\n",
       "\n",
       "    .dataframe thead th {\n",
       "        text-align: right;\n",
       "    }\n",
       "</style>\n",
       "<table border=\"1\" class=\"dataframe\">\n",
       "  <thead>\n",
       "    <tr style=\"text-align: right;\">\n",
       "      <th></th>\n",
       "      <th>median_income</th>\n",
       "      <th>housing_median_age</th>\n",
       "      <th>median_house_value</th>\n",
       "      <th>population</th>\n",
       "    </tr>\n",
       "  </thead>\n",
       "  <tbody>\n",
       "    <tr>\n",
       "      <th>count</th>\n",
       "      <td>20433.000000</td>\n",
       "      <td>20433.000000</td>\n",
       "      <td>20433.000000</td>\n",
       "      <td>20433.000000</td>\n",
       "    </tr>\n",
       "    <tr>\n",
       "      <th>mean</th>\n",
       "      <td>3.871162</td>\n",
       "      <td>28.633094</td>\n",
       "      <td>206864.413155</td>\n",
       "      <td>1424.946949</td>\n",
       "    </tr>\n",
       "    <tr>\n",
       "      <th>std</th>\n",
       "      <td>1.899291</td>\n",
       "      <td>12.591805</td>\n",
       "      <td>115435.667099</td>\n",
       "      <td>1133.208490</td>\n",
       "    </tr>\n",
       "    <tr>\n",
       "      <th>min</th>\n",
       "      <td>0.499900</td>\n",
       "      <td>1.000000</td>\n",
       "      <td>14999.000000</td>\n",
       "      <td>3.000000</td>\n",
       "    </tr>\n",
       "    <tr>\n",
       "      <th>25%</th>\n",
       "      <td>2.563700</td>\n",
       "      <td>18.000000</td>\n",
       "      <td>119500.000000</td>\n",
       "      <td>787.000000</td>\n",
       "    </tr>\n",
       "    <tr>\n",
       "      <th>50%</th>\n",
       "      <td>3.536500</td>\n",
       "      <td>29.000000</td>\n",
       "      <td>179700.000000</td>\n",
       "      <td>1166.000000</td>\n",
       "    </tr>\n",
       "    <tr>\n",
       "      <th>75%</th>\n",
       "      <td>4.744000</td>\n",
       "      <td>37.000000</td>\n",
       "      <td>264700.000000</td>\n",
       "      <td>1722.000000</td>\n",
       "    </tr>\n",
       "    <tr>\n",
       "      <th>max</th>\n",
       "      <td>15.000100</td>\n",
       "      <td>52.000000</td>\n",
       "      <td>500001.000000</td>\n",
       "      <td>35682.000000</td>\n",
       "    </tr>\n",
       "  </tbody>\n",
       "</table>\n",
       "</div>"
      ],
      "text/plain": [
       "       median_income  housing_median_age  median_house_value    population\n",
       "count   20433.000000        20433.000000        20433.000000  20433.000000\n",
       "mean        3.871162           28.633094       206864.413155   1424.946949\n",
       "std         1.899291           12.591805       115435.667099   1133.208490\n",
       "min         0.499900            1.000000        14999.000000      3.000000\n",
       "25%         2.563700           18.000000       119500.000000    787.000000\n",
       "50%         3.536500           29.000000       179700.000000   1166.000000\n",
       "75%         4.744000           37.000000       264700.000000   1722.000000\n",
       "max        15.000100           52.000000       500001.000000  35682.000000"
      ]
     },
     "execution_count": 49,
     "metadata": {},
     "output_type": "execute_result"
    }
   ],
   "source": [
    "# Describe numerical columns in greater detail (pandas, numpy, typecasting)\n",
    "df[{'housing_median_age','population','median_income', 'median_house_value'}].astype(float).describe()"
   ]
  },
  {
   "cell_type": "markdown",
   "id": "a49fec32",
   "metadata": {},
   "source": [
    "#### Set DataTypes <a name=\"setdatatypesdataset1\"></a>"
   ]
  },
  {
   "cell_type": "markdown",
   "id": "af77688b",
   "metadata": {},
   "source": [
    "To avoid the constant need for `typecasting`, the `column` `datatypes` can be converted to something more meaningful or usable. Let's take a look at the current `datatypes` for each column."
   ]
  },
  {
   "cell_type": "code",
   "execution_count": 50,
   "id": "d0ac7214",
   "metadata": {},
   "outputs": [
    {
     "name": "stdout",
     "output_type": "stream",
     "text": [
      "Current Data Types\n"
     ]
    },
    {
     "data": {
      "text/plain": [
       "longitude             object\n",
       "latitude              object\n",
       "housing_median_age    object\n",
       "total_rooms           object\n",
       "total_bedrooms        object\n",
       "population            object\n",
       "households            object\n",
       "median_income         object\n",
       "median_house_value    object\n",
       "ocean_proximity       object\n",
       "dtype: object"
      ]
     },
     "execution_count": 50,
     "metadata": {},
     "output_type": "execute_result"
    }
   ],
   "source": [
    "# Convert data types to their desired types (pandas)\n",
    "print(\"Current Data Types\")\n",
    "df.dtypes"
   ]
  },
  {
   "cell_type": "markdown",
   "id": "8c4fba3c",
   "metadata": {},
   "source": [
    "It will be much easier to work with numerical `datatypes` for further explorations, hence all of the `columns` were converted to numeric data types (`float64`) with the help of the `to_numeric` function found in `pandas`. Now we're ready for some deeper analytics with Dataset 1.\n",
    "\n",
    "Note: `longitude` cannot be converted as it is the index for the Dataset. Also, `ocean_proximity` is left as an object as `Python` can see this and still treat the respective entries as the type `String`."
   ]
  },
  {
   "cell_type": "code",
   "execution_count": 51,
   "id": "3047f931",
   "metadata": {},
   "outputs": [
    {
     "name": "stdout",
     "output_type": "stream",
     "text": [
      "New Data Types\n"
     ]
    },
    {
     "data": {
      "text/plain": [
       "longitude              object\n",
       "latitude              float64\n",
       "housing_median_age    float64\n",
       "total_rooms           float64\n",
       "total_bedrooms        float64\n",
       "population            float64\n",
       "households            float64\n",
       "median_income         float64\n",
       "median_house_value    float64\n",
       "ocean_proximity        object\n",
       "dtype: object"
      ]
     },
     "execution_count": 51,
     "metadata": {},
     "output_type": "execute_result"
    }
   ],
   "source": [
    "df[[ 'latitude', 'housing_median_age', 'total_rooms', 'total_bedrooms', 'population', 'households', 'median_income', 'median_house_value']] = df[[ 'latitude', 'housing_median_age', 'total_rooms', 'total_bedrooms', 'population', 'households', 'median_income', 'median_house_value']].apply(pd.to_numeric)\n",
    "print(\"New Data Types\")\n",
    "df.dtypes"
   ]
  },
  {
   "cell_type": "markdown",
   "id": "e2e41b32",
   "metadata": {},
   "source": [
    "### Step 2: Analyze Dataset 2 <a name=\"analyzedataset2\"></a>"
   ]
  },
  {
   "cell_type": "markdown",
   "id": "a3ebfbd3",
   "metadata": {},
   "source": [
    "Just like the first Dataset, we need to really understand the magnitude of what we're working with, through a bird's eye view. Using `pandas`, we must make sure to check the data and get important information, such as: `count` the number of entries, find the number of `unique` entires, display the first record using `top` and understand the `frequency` of the data. As you can see, there are also some `NaN` values - which mean *Not A Number*. This is found particularly in `ALAND` and `AWATER`, but this issue is quickly resolved by updating the `datatypes`."
   ]
  },
  {
   "cell_type": "markdown",
   "id": "42ae4796",
   "metadata": {},
   "source": [
    "#### Describe the Data <a name=\"describedataset2\"></a>"
   ]
  },
  {
   "cell_type": "markdown",
   "id": "072a6965",
   "metadata": {},
   "source": [
    "Here, we can see the data broken into its respective `columns`. It is important to look at the unique values as this will help with data cleaning later on."
   ]
  },
  {
   "cell_type": "code",
   "execution_count": 52,
   "id": "24cef0aa",
   "metadata": {
    "scrolled": true
   },
   "outputs": [
    {
     "data": {
      "text/html": [
       "<div>\n",
       "<style scoped>\n",
       "    .dataframe tbody tr th:only-of-type {\n",
       "        vertical-align: middle;\n",
       "    }\n",
       "\n",
       "    .dataframe tbody tr th {\n",
       "        vertical-align: top;\n",
       "    }\n",
       "\n",
       "    .dataframe thead th {\n",
       "        text-align: right;\n",
       "    }\n",
       "</style>\n",
       "<table border=\"1\" class=\"dataframe\">\n",
       "  <thead>\n",
       "    <tr style=\"text-align: right;\">\n",
       "      <th></th>\n",
       "      <th>STATEFP</th>\n",
       "      <th>COUNTYFP</th>\n",
       "      <th>COUNTYNS</th>\n",
       "      <th>GEOID</th>\n",
       "      <th>NAME</th>\n",
       "      <th>county</th>\n",
       "      <th>LSAD</th>\n",
       "      <th>CLASSFP</th>\n",
       "      <th>MTFCC</th>\n",
       "      <th>CSAFP</th>\n",
       "      <th>CBSAFP</th>\n",
       "      <th>METDIVFP</th>\n",
       "      <th>FUNCSTAT</th>\n",
       "      <th>ALAND</th>\n",
       "      <th>AWATER</th>\n",
       "      <th>INTPTLAT</th>\n",
       "      <th>INTPTLON</th>\n",
       "      <th>geometry</th>\n",
       "    </tr>\n",
       "  </thead>\n",
       "  <tbody>\n",
       "    <tr>\n",
       "      <th>count</th>\n",
       "      <td>58</td>\n",
       "      <td>58</td>\n",
       "      <td>58</td>\n",
       "      <td>58</td>\n",
       "      <td>58</td>\n",
       "      <td>58</td>\n",
       "      <td>58</td>\n",
       "      <td>58</td>\n",
       "      <td>58</td>\n",
       "      <td>32</td>\n",
       "      <td>45</td>\n",
       "      <td>7</td>\n",
       "      <td>58</td>\n",
       "      <td>58.0</td>\n",
       "      <td>58.0</td>\n",
       "      <td>58</td>\n",
       "      <td>58</td>\n",
       "      <td>58</td>\n",
       "    </tr>\n",
       "    <tr>\n",
       "      <th>unique</th>\n",
       "      <td>1</td>\n",
       "      <td>58</td>\n",
       "      <td>58</td>\n",
       "      <td>58</td>\n",
       "      <td>58</td>\n",
       "      <td>58</td>\n",
       "      <td>1</td>\n",
       "      <td>2</td>\n",
       "      <td>1</td>\n",
       "      <td>7</td>\n",
       "      <td>34</td>\n",
       "      <td>5</td>\n",
       "      <td>2</td>\n",
       "      <td>NaN</td>\n",
       "      <td>NaN</td>\n",
       "      <td>58</td>\n",
       "      <td>58</td>\n",
       "      <td>58</td>\n",
       "    </tr>\n",
       "    <tr>\n",
       "      <th>top</th>\n",
       "      <td>06</td>\n",
       "      <td>091</td>\n",
       "      <td>00277310</td>\n",
       "      <td>06091</td>\n",
       "      <td>Sierra</td>\n",
       "      <td>Sierra County</td>\n",
       "      <td>06</td>\n",
       "      <td>H1</td>\n",
       "      <td>G4020</td>\n",
       "      <td>488</td>\n",
       "      <td>41860</td>\n",
       "      <td>41884</td>\n",
       "      <td>A</td>\n",
       "      <td>NaN</td>\n",
       "      <td>NaN</td>\n",
       "      <td>+39.5769252</td>\n",
       "      <td>-120.5219926</td>\n",
       "      <td>POLYGON ((-13431319.75097945 4821511.426395644...</td>\n",
       "    </tr>\n",
       "    <tr>\n",
       "      <th>freq</th>\n",
       "      <td>58</td>\n",
       "      <td>1</td>\n",
       "      <td>1</td>\n",
       "      <td>1</td>\n",
       "      <td>1</td>\n",
       "      <td>1</td>\n",
       "      <td>58</td>\n",
       "      <td>57</td>\n",
       "      <td>58</td>\n",
       "      <td>12</td>\n",
       "      <td>5</td>\n",
       "      <td>2</td>\n",
       "      <td>57</td>\n",
       "      <td>NaN</td>\n",
       "      <td>NaN</td>\n",
       "      <td>1</td>\n",
       "      <td>1</td>\n",
       "      <td>1</td>\n",
       "    </tr>\n",
       "  </tbody>\n",
       "</table>\n",
       "</div>"
      ],
      "text/plain": [
       "       STATEFP COUNTYFP  COUNTYNS  GEOID    NAME         county LSAD CLASSFP  \\\n",
       "count       58       58        58     58      58             58   58      58   \n",
       "unique       1       58        58     58      58             58    1       2   \n",
       "top         06      091  00277310  06091  Sierra  Sierra County   06      H1   \n",
       "freq        58        1         1      1       1              1   58      57   \n",
       "\n",
       "        MTFCC CSAFP CBSAFP METDIVFP FUNCSTAT  ALAND  AWATER     INTPTLAT  \\\n",
       "count      58    32     45        7       58   58.0    58.0           58   \n",
       "unique      1     7     34        5        2    NaN     NaN           58   \n",
       "top     G4020   488  41860    41884        A    NaN     NaN  +39.5769252   \n",
       "freq       58    12      5        2       57    NaN     NaN            1   \n",
       "\n",
       "            INTPTLON                                           geometry  \n",
       "count             58                                                 58  \n",
       "unique            58                                                 58  \n",
       "top     -120.5219926  POLYGON ((-13431319.75097945 4821511.426395644...  \n",
       "freq               1                                                  1  "
      ]
     },
     "execution_count": 52,
     "metadata": {},
     "output_type": "execute_result"
    }
   ],
   "source": [
    "# Describe the data \n",
    "regions.describe(include='all').head(4)"
   ]
  },
  {
   "cell_type": "markdown",
   "id": "0eee6e11",
   "metadata": {},
   "source": [
    "#### Locate Rows with Empty Records <a name=\"locateemptydataset2\"></a>"
   ]
  },
  {
   "cell_type": "markdown",
   "id": "409e0f8f",
   "metadata": {},
   "source": [
    "Since we the previous step yeilded `NaN` values, using functional programming concepts, we are able to utilize `numpy` to and try to identify which of the `columns` and/or `rows` have such values. Ironically, none of the cells thoughout the `DataFrame` are truely holding `NaN` values - in fact, this is due a mismatch of `datatypes`."
   ]
  },
  {
   "cell_type": "code",
   "execution_count": 53,
   "id": "b0e114a0",
   "metadata": {
    "scrolled": true
   },
   "outputs": [
    {
     "data": {
      "text/plain": [
       "0"
      ]
     },
     "execution_count": 53,
     "metadata": {},
     "output_type": "execute_result"
    }
   ],
   "source": [
    "# Get count for how many region records are empty\n",
    "empties = np.where(regions.applymap(lambda x: (x == np.nan) | (x == '')))\n",
    "len(empties[0])"
   ]
  },
  {
   "cell_type": "markdown",
   "id": "3090fc48",
   "metadata": {},
   "source": [
    "#### Set DataTypes <a name=\"setdatatypesdataset2\"></a>"
   ]
  },
  {
   "cell_type": "markdown",
   "id": "31139e28",
   "metadata": {},
   "source": [
    "As we can now see, most columns are of the type `object`, once again, however as we aren't most of the columns in the respective dataset, they are perfectly fine the way are."
   ]
  },
  {
   "cell_type": "code",
   "execution_count": 54,
   "id": "1e5cb5c7",
   "metadata": {},
   "outputs": [
    {
     "name": "stdout",
     "output_type": "stream",
     "text": [
      "Current Data Types\n"
     ]
    },
    {
     "data": {
      "text/plain": [
       "STATEFP       object\n",
       "COUNTYFP      object\n",
       "COUNTYNS      object\n",
       "GEOID         object\n",
       "NAME          object\n",
       "county        object\n",
       "LSAD          object\n",
       "CLASSFP       object\n",
       "MTFCC         object\n",
       "CSAFP         object\n",
       "CBSAFP        object\n",
       "METDIVFP      object\n",
       "FUNCSTAT      object\n",
       "ALAND          int64\n",
       "AWATER         int64\n",
       "INTPTLAT      object\n",
       "INTPTLON      object\n",
       "geometry    geometry\n",
       "dtype: object"
      ]
     },
     "execution_count": 54,
     "metadata": {},
     "output_type": "execute_result"
    }
   ],
   "source": [
    "print(\"Current Data Types\")\n",
    "regions.dtypes"
   ]
  },
  {
   "cell_type": "markdown",
   "id": "210d1412",
   "metadata": {},
   "source": [
    "## Exploratory Data Analysis <a name=\"explore\"></a>\n",
    "Click [here](#toc) to return to Table of Contents"
   ]
  },
  {
   "cell_type": "markdown",
   "id": "24dde395",
   "metadata": {},
   "source": [
    "** EXPLORATORY DATA ANALYSIS OF DATA HERE **\n",
    "\n",
    "- Group the data by ocean proximity and display the first record (pandas)\n",
    "- Display records with median_income +/- mean of median_income (numpy, mean, std, comparison and boolean operators)\n",
    "- Answer to Question being asked: How many people with income above the median income live 1hour away from ocean? (numpy, mean, comparison and boolean operators)\n",
    "- Answer to Question being asked: Is there a correlation between the population above mean population and the median income? (numpy, pandas, seaborn)\n",
    "- Is there a correlation between the total rooms and the total bedrooms? (numpy, pandas)\n",
    "- Explore correlations related to median_income, median_house_value, and households (numpy, pandas)\n",
    "- How does the number of households in a given latitude, affect the median house value? (seaborn)\n",
    "- Portray the distribution of houses according to ocean proximity"
   ]
  },
  {
   "cell_type": "markdown",
   "id": "81fcbbbc",
   "metadata": {},
   "source": [
    "### Group By Ocean Proximity<a name=\"groupbyoceanproximity\"></a>"
   ]
  },
  {
   "cell_type": "markdown",
   "id": "033a089b",
   "metadata": {},
   "source": [
    "One great way to visualize the data is to group it by `ocean_proximity`. Then by displaying the first record of each `group` we can start to point out any findings - one very noticable finding from the output is that there is a very large spike in the population for the first data point `group` `NEAR OCEAN`."
   ]
  },
  {
   "cell_type": "code",
   "execution_count": 55,
   "id": "606b88c0",
   "metadata": {},
   "outputs": [
    {
     "data": {
      "text/html": [
       "<div>\n",
       "<style scoped>\n",
       "    .dataframe tbody tr th:only-of-type {\n",
       "        vertical-align: middle;\n",
       "    }\n",
       "\n",
       "    .dataframe tbody tr th {\n",
       "        vertical-align: top;\n",
       "    }\n",
       "\n",
       "    .dataframe thead th {\n",
       "        text-align: right;\n",
       "    }\n",
       "</style>\n",
       "<table border=\"1\" class=\"dataframe\">\n",
       "  <thead>\n",
       "    <tr style=\"text-align: right;\">\n",
       "      <th></th>\n",
       "      <th>longitude</th>\n",
       "      <th>latitude</th>\n",
       "      <th>housing_median_age</th>\n",
       "      <th>total_rooms</th>\n",
       "      <th>total_bedrooms</th>\n",
       "      <th>population</th>\n",
       "      <th>households</th>\n",
       "      <th>median_income</th>\n",
       "      <th>median_house_value</th>\n",
       "    </tr>\n",
       "    <tr>\n",
       "      <th>ocean_proximity</th>\n",
       "      <th></th>\n",
       "      <th></th>\n",
       "      <th></th>\n",
       "      <th></th>\n",
       "      <th></th>\n",
       "      <th></th>\n",
       "      <th></th>\n",
       "      <th></th>\n",
       "      <th></th>\n",
       "    </tr>\n",
       "  </thead>\n",
       "  <tbody>\n",
       "    <tr>\n",
       "      <th>&lt;1H OCEAN</th>\n",
       "      <td>-121.97</td>\n",
       "      <td>37.64</td>\n",
       "      <td>32.0</td>\n",
       "      <td>1283.0</td>\n",
       "      <td>194.0</td>\n",
       "      <td>485.0</td>\n",
       "      <td>171.0</td>\n",
       "      <td>6.0574</td>\n",
       "      <td>431000.0</td>\n",
       "    </tr>\n",
       "    <tr>\n",
       "      <th>INLAND</th>\n",
       "      <td>-121.92</td>\n",
       "      <td>37.64</td>\n",
       "      <td>46.0</td>\n",
       "      <td>1280.0</td>\n",
       "      <td>209.0</td>\n",
       "      <td>512.0</td>\n",
       "      <td>208.0</td>\n",
       "      <td>5.1406</td>\n",
       "      <td>315600.0</td>\n",
       "    </tr>\n",
       "    <tr>\n",
       "      <th>ISLAND</th>\n",
       "      <td>-118.32</td>\n",
       "      <td>33.35</td>\n",
       "      <td>27.0</td>\n",
       "      <td>1675.0</td>\n",
       "      <td>521.0</td>\n",
       "      <td>744.0</td>\n",
       "      <td>331.0</td>\n",
       "      <td>2.1579</td>\n",
       "      <td>450000.0</td>\n",
       "    </tr>\n",
       "    <tr>\n",
       "      <th>NEAR BAY</th>\n",
       "      <td>-122.23</td>\n",
       "      <td>37.88</td>\n",
       "      <td>41.0</td>\n",
       "      <td>880.0</td>\n",
       "      <td>129.0</td>\n",
       "      <td>322.0</td>\n",
       "      <td>126.0</td>\n",
       "      <td>8.3252</td>\n",
       "      <td>452600.0</td>\n",
       "    </tr>\n",
       "    <tr>\n",
       "      <th>NEAR OCEAN</th>\n",
       "      <td>-124.17</td>\n",
       "      <td>41.80</td>\n",
       "      <td>16.0</td>\n",
       "      <td>2739.0</td>\n",
       "      <td>480.0</td>\n",
       "      <td>1259.0</td>\n",
       "      <td>436.0</td>\n",
       "      <td>3.7557</td>\n",
       "      <td>109400.0</td>\n",
       "    </tr>\n",
       "  </tbody>\n",
       "</table>\n",
       "</div>"
      ],
      "text/plain": [
       "                longitude  latitude  housing_median_age  total_rooms  \\\n",
       "ocean_proximity                                                        \n",
       "<1H OCEAN         -121.97     37.64                32.0       1283.0   \n",
       "INLAND            -121.92     37.64                46.0       1280.0   \n",
       "ISLAND            -118.32     33.35                27.0       1675.0   \n",
       "NEAR BAY          -122.23     37.88                41.0        880.0   \n",
       "NEAR OCEAN        -124.17     41.80                16.0       2739.0   \n",
       "\n",
       "                 total_bedrooms  population  households  median_income  \\\n",
       "ocean_proximity                                                          \n",
       "<1H OCEAN                 194.0       485.0       171.0         6.0574   \n",
       "INLAND                    209.0       512.0       208.0         5.1406   \n",
       "ISLAND                    521.0       744.0       331.0         2.1579   \n",
       "NEAR BAY                  129.0       322.0       126.0         8.3252   \n",
       "NEAR OCEAN                480.0      1259.0       436.0         3.7557   \n",
       "\n",
       "                 median_house_value  \n",
       "ocean_proximity                      \n",
       "<1H OCEAN                  431000.0  \n",
       "INLAND                     315600.0  \n",
       "ISLAND                     450000.0  \n",
       "NEAR BAY                   452600.0  \n",
       "NEAR OCEAN                 109400.0  "
      ]
     },
     "execution_count": 55,
     "metadata": {},
     "output_type": "execute_result"
    }
   ],
   "source": [
    "df_by_proximity = df.groupby(['ocean_proximity'])\n",
    "df_by_proximity.first()"
   ]
  },
  {
   "cell_type": "markdown",
   "id": "4bc678c0",
   "metadata": {},
   "source": [
    "### Portray Breakdown of Homes In Various Ocean Proximities <a name=\"homesbyoceanprox\"></a>"
   ]
  },
  {
   "cell_type": "markdown",
   "id": "7d26fa06",
   "metadata": {},
   "source": [
    "Let's take things further, a better way to portray such information would be to preform a `count` on how many `households` are in each `group`. This can give us a better understanding on where most of the houses were made in the state of California at this time. We can do so with a `Mathematical` and `Graphical` approach, by using a `pie chart` from the `matplotlib` library."
   ]
  },
  {
   "cell_type": "markdown",
   "id": "23b4d729",
   "metadata": {},
   "source": [
    "##### Mathematical <a name=\"homesbyoceanproxmath\"></a>"
   ]
  },
  {
   "cell_type": "code",
   "execution_count": 56,
   "id": "373f880f",
   "metadata": {
    "scrolled": true
   },
   "outputs": [
    {
     "data": {
      "text/plain": [
       "ocean_proximity\n",
       "<1H OCEAN     9034\n",
       "INLAND        6496\n",
       "ISLAND           5\n",
       "NEAR BAY      2270\n",
       "NEAR OCEAN    2628\n",
       "Name: households, dtype: int64"
      ]
     },
     "execution_count": 56,
     "metadata": {},
     "output_type": "execute_result"
    }
   ],
   "source": [
    "# Portray the distribution of houses according to ocean proximity (pandas)\n",
    "proximity_count = df.groupby(['ocean_proximity'])['households'].count()\n",
    "proximity_count"
   ]
  },
  {
   "cell_type": "markdown",
   "id": "0f5696b8",
   "metadata": {},
   "source": [
    "##### Graphical <a name=\"homesbyoceanproxgraph\"></a>"
   ]
  },
  {
   "cell_type": "code",
   "execution_count": 57,
   "id": "4ba253d3",
   "metadata": {
    "scrolled": false
   },
   "outputs": [
    {
     "data": {
      "image/png": "[encoded data removed]",
      "text/plain": [
       "<Figure size 720x432 with 1 Axes>"
      ]
     },
     "metadata": {},
     "output_type": "display_data"
    }
   ],
   "source": [
    "# Going Further: Display findings in a pie chart\n",
    "percentages = []\n",
    "indexes = []\n",
    "denom = df.shape[0]\n",
    "\n",
    "for row in proximity_count:\n",
    "    percentages.append(row/denom)\n",
    "    \n",
    "for row in proximity_count.index:\n",
    "    indexes.append(row)\n",
    "\n",
    "plt.figure(figsize=(10,6))\n",
    "plt.pie(percentages, labels = indexes, autopct='%.0f%%')\n",
    "plt.title('Pie Chart: Breakdown of Ocean Proximities')\n",
    "plt.show()"
   ]
  },
  {
   "cell_type": "markdown",
   "id": "c2101140",
   "metadata": {},
   "source": [
    "### Creating Data Subsets <a name=\"datasubsets\"></a>"
   ]
  },
  {
   "cell_type": "markdown",
   "id": "64db7811",
   "metadata": {},
   "source": [
    "An interesting way to gain further information regarding the data we are working with, would be to create subsets that help us seek specific answers. Some of the questions which were asked at the time of proposal this study are:\n",
    "\n",
    "- How many people with income above the median income live less than 1-hour away from ocean?\n",
    "- How is the house price affected by the proximity to the ocean?\n",
    "- How does population relate to income (higher? lower?)\n",
    "- Does median house value dictate how many bedrooms and bathrooms there are? Is there a correlation between these numbers?\n",
    "- How does the number of households affect the median house price?\n",
    "- We expect to use Python to solve these questions."
   ]
  },
  {
   "cell_type": "markdown",
   "id": "028c0a89",
   "metadata": {},
   "source": [
    "#### Subset: Find Homes That are Within Income Mean +/- Income Standard Deviation  <a name=\"subsetwithinmeanstd\"></a>"
   ]
  },
  {
   "cell_type": "markdown",
   "id": "31abdfce",
   "metadata": {},
   "source": [
    "One exploratory analysis that was conducted frequently throughout this course was, to find homes within a threshold of values. In our study, that threshold is defined as the `mean` of the `median_income` (set to `income_mean`), and the `standard deviation` of the `median_income`(set to `income_std`). The thresholds are then set by `adding` the `income_mean` with `median_income` (`upper bound`) and `subtracting` the `median_income` from `income_mean` (`lower bound`). Once the arithmetic is complete, a simple `comparison` of each record in the column `median_income` gave us the respective results. \n",
    "\n",
    "As always, many libraries went in to achieving this, such as: `numpy`'s `mean` and `std` functions, and `Python`'s `comparison` and `boolean operators` features."
   ]
  },
  {
   "cell_type": "code",
   "execution_count": 58,
   "id": "18b8da3a",
   "metadata": {
    "scrolled": false
   },
   "outputs": [
    {
     "data": {
      "text/html": [
       "<div>\n",
       "<style scoped>\n",
       "    .dataframe tbody tr th:only-of-type {\n",
       "        vertical-align: middle;\n",
       "    }\n",
       "\n",
       "    .dataframe tbody tr th {\n",
       "        vertical-align: top;\n",
       "    }\n",
       "\n",
       "    .dataframe thead th {\n",
       "        text-align: right;\n",
       "    }\n",
       "</style>\n",
       "<table border=\"1\" class=\"dataframe\">\n",
       "  <thead>\n",
       "    <tr style=\"text-align: right;\">\n",
       "      <th></th>\n",
       "      <th>longitude</th>\n",
       "      <th>latitude</th>\n",
       "      <th>housing_median_age</th>\n",
       "      <th>total_rooms</th>\n",
       "      <th>total_bedrooms</th>\n",
       "      <th>population</th>\n",
       "      <th>households</th>\n",
       "      <th>median_income</th>\n",
       "      <th>median_house_value</th>\n",
       "      <th>ocean_proximity</th>\n",
       "    </tr>\n",
       "  </thead>\n",
       "  <tbody>\n",
       "    <tr>\n",
       "      <th>4</th>\n",
       "      <td>-122.25</td>\n",
       "      <td>37.85</td>\n",
       "      <td>52.0</td>\n",
       "      <td>1274.0</td>\n",
       "      <td>235.0</td>\n",
       "      <td>558.0</td>\n",
       "      <td>219.0</td>\n",
       "      <td>5.6431</td>\n",
       "      <td>341300.0</td>\n",
       "      <td>NEAR BAY</td>\n",
       "    </tr>\n",
       "    <tr>\n",
       "      <th>5</th>\n",
       "      <td>-122.25</td>\n",
       "      <td>37.85</td>\n",
       "      <td>52.0</td>\n",
       "      <td>1627.0</td>\n",
       "      <td>280.0</td>\n",
       "      <td>565.0</td>\n",
       "      <td>259.0</td>\n",
       "      <td>3.8462</td>\n",
       "      <td>342200.0</td>\n",
       "      <td>NEAR BAY</td>\n",
       "    </tr>\n",
       "    <tr>\n",
       "      <th>6</th>\n",
       "      <td>-122.25</td>\n",
       "      <td>37.85</td>\n",
       "      <td>52.0</td>\n",
       "      <td>919.0</td>\n",
       "      <td>213.0</td>\n",
       "      <td>413.0</td>\n",
       "      <td>193.0</td>\n",
       "      <td>4.0368</td>\n",
       "      <td>269700.0</td>\n",
       "      <td>NEAR BAY</td>\n",
       "    </tr>\n",
       "    <tr>\n",
       "      <th>7</th>\n",
       "      <td>-122.25</td>\n",
       "      <td>37.84</td>\n",
       "      <td>52.0</td>\n",
       "      <td>2535.0</td>\n",
       "      <td>489.0</td>\n",
       "      <td>1094.0</td>\n",
       "      <td>514.0</td>\n",
       "      <td>3.6591</td>\n",
       "      <td>299200.0</td>\n",
       "      <td>NEAR BAY</td>\n",
       "    </tr>\n",
       "    <tr>\n",
       "      <th>8</th>\n",
       "      <td>-122.25</td>\n",
       "      <td>37.84</td>\n",
       "      <td>52.0</td>\n",
       "      <td>3104.0</td>\n",
       "      <td>687.0</td>\n",
       "      <td>1157.0</td>\n",
       "      <td>647.0</td>\n",
       "      <td>3.1200</td>\n",
       "      <td>241400.0</td>\n",
       "      <td>NEAR BAY</td>\n",
       "    </tr>\n",
       "    <tr>\n",
       "      <th>...</th>\n",
       "      <td>...</td>\n",
       "      <td>...</td>\n",
       "      <td>...</td>\n",
       "      <td>...</td>\n",
       "      <td>...</td>\n",
       "      <td>...</td>\n",
       "      <td>...</td>\n",
       "      <td>...</td>\n",
       "      <td>...</td>\n",
       "      <td>...</td>\n",
       "    </tr>\n",
       "    <tr>\n",
       "      <th>20633</th>\n",
       "      <td>-121.45</td>\n",
       "      <td>39.26</td>\n",
       "      <td>15.0</td>\n",
       "      <td>2319.0</td>\n",
       "      <td>416.0</td>\n",
       "      <td>1047.0</td>\n",
       "      <td>385.0</td>\n",
       "      <td>3.1250</td>\n",
       "      <td>115600.0</td>\n",
       "      <td>INLAND</td>\n",
       "    </tr>\n",
       "    <tr>\n",
       "      <th>20634</th>\n",
       "      <td>-121.53</td>\n",
       "      <td>39.19</td>\n",
       "      <td>27.0</td>\n",
       "      <td>2080.0</td>\n",
       "      <td>412.0</td>\n",
       "      <td>1082.0</td>\n",
       "      <td>382.0</td>\n",
       "      <td>2.5495</td>\n",
       "      <td>98300.0</td>\n",
       "      <td>INLAND</td>\n",
       "    </tr>\n",
       "    <tr>\n",
       "      <th>20635</th>\n",
       "      <td>-121.56</td>\n",
       "      <td>39.27</td>\n",
       "      <td>28.0</td>\n",
       "      <td>2332.0</td>\n",
       "      <td>395.0</td>\n",
       "      <td>1041.0</td>\n",
       "      <td>344.0</td>\n",
       "      <td>3.7125</td>\n",
       "      <td>116800.0</td>\n",
       "      <td>INLAND</td>\n",
       "    </tr>\n",
       "    <tr>\n",
       "      <th>20637</th>\n",
       "      <td>-121.21</td>\n",
       "      <td>39.49</td>\n",
       "      <td>18.0</td>\n",
       "      <td>697.0</td>\n",
       "      <td>150.0</td>\n",
       "      <td>356.0</td>\n",
       "      <td>114.0</td>\n",
       "      <td>2.5568</td>\n",
       "      <td>77100.0</td>\n",
       "      <td>INLAND</td>\n",
       "    </tr>\n",
       "    <tr>\n",
       "      <th>20640</th>\n",
       "      <td>-121.24</td>\n",
       "      <td>39.37</td>\n",
       "      <td>16.0</td>\n",
       "      <td>2785.0</td>\n",
       "      <td>616.0</td>\n",
       "      <td>1387.0</td>\n",
       "      <td>530.0</td>\n",
       "      <td>2.3886</td>\n",
       "      <td>89400.0</td>\n",
       "      <td>INLAND</td>\n",
       "    </tr>\n",
       "  </tbody>\n",
       "</table>\n",
       "<p>15505 rows × 10 columns</p>\n",
       "</div>"
      ],
      "text/plain": [
       "      longitude  latitude  housing_median_age  total_rooms  total_bedrooms  \\\n",
       "4       -122.25     37.85                52.0       1274.0           235.0   \n",
       "5       -122.25     37.85                52.0       1627.0           280.0   \n",
       "6       -122.25     37.85                52.0        919.0           213.0   \n",
       "7       -122.25     37.84                52.0       2535.0           489.0   \n",
       "8       -122.25     37.84                52.0       3104.0           687.0   \n",
       "...         ...       ...                 ...          ...             ...   \n",
       "20633   -121.45     39.26                15.0       2319.0           416.0   \n",
       "20634   -121.53     39.19                27.0       2080.0           412.0   \n",
       "20635   -121.56     39.27                28.0       2332.0           395.0   \n",
       "20637   -121.21     39.49                18.0        697.0           150.0   \n",
       "20640   -121.24     39.37                16.0       2785.0           616.0   \n",
       "\n",
       "       population  households  median_income  median_house_value  \\\n",
       "4           558.0       219.0         5.6431            341300.0   \n",
       "5           565.0       259.0         3.8462            342200.0   \n",
       "6           413.0       193.0         4.0368            269700.0   \n",
       "7          1094.0       514.0         3.6591            299200.0   \n",
       "8          1157.0       647.0         3.1200            241400.0   \n",
       "...           ...         ...            ...                 ...   \n",
       "20633      1047.0       385.0         3.1250            115600.0   \n",
       "20634      1082.0       382.0         2.5495             98300.0   \n",
       "20635      1041.0       344.0         3.7125            116800.0   \n",
       "20637       356.0       114.0         2.5568             77100.0   \n",
       "20640      1387.0       530.0         2.3886             89400.0   \n",
       "\n",
       "      ocean_proximity  \n",
       "4            NEAR BAY  \n",
       "5            NEAR BAY  \n",
       "6            NEAR BAY  \n",
       "7            NEAR BAY  \n",
       "8            NEAR BAY  \n",
       "...               ...  \n",
       "20633          INLAND  \n",
       "20634          INLAND  \n",
       "20635          INLAND  \n",
       "20637          INLAND  \n",
       "20640          INLAND  \n",
       "\n",
       "[15505 rows x 10 columns]"
      ]
     },
     "execution_count": 58,
     "metadata": {},
     "output_type": "execute_result"
    }
   ],
   "source": [
    "# Display records with median_income +/- mean of median_income\n",
    "income_mean = df['median_income'].mean()\n",
    "income_std = df['median_income'].std()\n",
    "\n",
    "homes_within_range = df[(df['median_income'] > income_mean-income_std) & (df['median_income'] < income_mean+income_std)]\n",
    "homes_within_range"
   ]
  },
  {
   "cell_type": "markdown",
   "id": "55557e1f",
   "metadata": {},
   "source": [
    "#### Subset: Find Homes That are Greater Than Income Mean & Less Than 1 Hour Away From Ocean  <a name=\"subsetgtmean1hrocean\"></a>"
   ]
  },
  {
   "cell_type": "markdown",
   "id": "5578dc70",
   "metadata": {},
   "source": [
    "Another subset of data that proves to be usefuls is where individuals that live above the `income_mean` also live less than 1-Hour away from the Ocean."
   ]
  },
  {
   "cell_type": "code",
   "execution_count": 59,
   "id": "ca66aabc",
   "metadata": {},
   "outputs": [
    {
     "data": {
      "text/html": [
       "<div>\n",
       "<style scoped>\n",
       "    .dataframe tbody tr th:only-of-type {\n",
       "        vertical-align: middle;\n",
       "    }\n",
       "\n",
       "    .dataframe tbody tr th {\n",
       "        vertical-align: top;\n",
       "    }\n",
       "\n",
       "    .dataframe thead th {\n",
       "        text-align: right;\n",
       "    }\n",
       "</style>\n",
       "<table border=\"1\" class=\"dataframe\">\n",
       "  <thead>\n",
       "    <tr style=\"text-align: right;\">\n",
       "      <th></th>\n",
       "      <th>longitude</th>\n",
       "      <th>latitude</th>\n",
       "      <th>housing_median_age</th>\n",
       "      <th>total_rooms</th>\n",
       "      <th>total_bedrooms</th>\n",
       "      <th>population</th>\n",
       "      <th>households</th>\n",
       "      <th>median_income</th>\n",
       "      <th>median_house_value</th>\n",
       "      <th>ocean_proximity</th>\n",
       "    </tr>\n",
       "  </thead>\n",
       "  <tbody>\n",
       "    <tr>\n",
       "      <th>702</th>\n",
       "      <td>-121.97</td>\n",
       "      <td>37.64</td>\n",
       "      <td>32.0</td>\n",
       "      <td>1283.0</td>\n",
       "      <td>194.0</td>\n",
       "      <td>485.0</td>\n",
       "      <td>171.0</td>\n",
       "      <td>6.0574</td>\n",
       "      <td>431000.0</td>\n",
       "      <td>&lt;1H OCEAN</td>\n",
       "    </tr>\n",
       "    <tr>\n",
       "      <th>831</th>\n",
       "      <td>-121.99</td>\n",
       "      <td>37.61</td>\n",
       "      <td>9.0</td>\n",
       "      <td>3666.0</td>\n",
       "      <td>711.0</td>\n",
       "      <td>2341.0</td>\n",
       "      <td>703.0</td>\n",
       "      <td>4.6458</td>\n",
       "      <td>217000.0</td>\n",
       "      <td>&lt;1H OCEAN</td>\n",
       "    </tr>\n",
       "    <tr>\n",
       "      <th>860</th>\n",
       "      <td>-121.97</td>\n",
       "      <td>37.57</td>\n",
       "      <td>21.0</td>\n",
       "      <td>4342.0</td>\n",
       "      <td>783.0</td>\n",
       "      <td>2172.0</td>\n",
       "      <td>789.0</td>\n",
       "      <td>4.6146</td>\n",
       "      <td>247600.0</td>\n",
       "      <td>&lt;1H OCEAN</td>\n",
       "    </tr>\n",
       "    <tr>\n",
       "      <th>861</th>\n",
       "      <td>-121.96</td>\n",
       "      <td>37.58</td>\n",
       "      <td>15.0</td>\n",
       "      <td>3575.0</td>\n",
       "      <td>597.0</td>\n",
       "      <td>1777.0</td>\n",
       "      <td>559.0</td>\n",
       "      <td>5.7192</td>\n",
       "      <td>283500.0</td>\n",
       "      <td>&lt;1H OCEAN</td>\n",
       "    </tr>\n",
       "    <tr>\n",
       "      <th>863</th>\n",
       "      <td>-121.99</td>\n",
       "      <td>37.58</td>\n",
       "      <td>31.0</td>\n",
       "      <td>2878.0</td>\n",
       "      <td>478.0</td>\n",
       "      <td>1276.0</td>\n",
       "      <td>485.0</td>\n",
       "      <td>6.2073</td>\n",
       "      <td>282500.0</td>\n",
       "      <td>&lt;1H OCEAN</td>\n",
       "    </tr>\n",
       "    <tr>\n",
       "      <th>...</th>\n",
       "      <td>...</td>\n",
       "      <td>...</td>\n",
       "      <td>...</td>\n",
       "      <td>...</td>\n",
       "      <td>...</td>\n",
       "      <td>...</td>\n",
       "      <td>...</td>\n",
       "      <td>...</td>\n",
       "      <td>...</td>\n",
       "      <td>...</td>\n",
       "    </tr>\n",
       "    <tr>\n",
       "      <th>20502</th>\n",
       "      <td>-118.71</td>\n",
       "      <td>34.30</td>\n",
       "      <td>20.0</td>\n",
       "      <td>1586.0</td>\n",
       "      <td>187.0</td>\n",
       "      <td>699.0</td>\n",
       "      <td>209.0</td>\n",
       "      <td>6.5483</td>\n",
       "      <td>335000.0</td>\n",
       "      <td>&lt;1H OCEAN</td>\n",
       "    </tr>\n",
       "    <tr>\n",
       "      <th>20504</th>\n",
       "      <td>-118.75</td>\n",
       "      <td>34.33</td>\n",
       "      <td>27.0</td>\n",
       "      <td>534.0</td>\n",
       "      <td>85.0</td>\n",
       "      <td>243.0</td>\n",
       "      <td>77.0</td>\n",
       "      <td>8.2787</td>\n",
       "      <td>330000.0</td>\n",
       "      <td>&lt;1H OCEAN</td>\n",
       "    </tr>\n",
       "    <tr>\n",
       "      <th>20505</th>\n",
       "      <td>-118.73</td>\n",
       "      <td>34.29</td>\n",
       "      <td>11.0</td>\n",
       "      <td>5451.0</td>\n",
       "      <td>736.0</td>\n",
       "      <td>2526.0</td>\n",
       "      <td>752.0</td>\n",
       "      <td>7.3550</td>\n",
       "      <td>343900.0</td>\n",
       "      <td>&lt;1H OCEAN</td>\n",
       "    </tr>\n",
       "    <tr>\n",
       "      <th>20506</th>\n",
       "      <td>-118.72</td>\n",
       "      <td>34.29</td>\n",
       "      <td>22.0</td>\n",
       "      <td>3266.0</td>\n",
       "      <td>529.0</td>\n",
       "      <td>1595.0</td>\n",
       "      <td>494.0</td>\n",
       "      <td>6.0368</td>\n",
       "      <td>248000.0</td>\n",
       "      <td>&lt;1H OCEAN</td>\n",
       "    </tr>\n",
       "    <tr>\n",
       "      <th>20507</th>\n",
       "      <td>-118.73</td>\n",
       "      <td>34.29</td>\n",
       "      <td>8.0</td>\n",
       "      <td>4983.0</td>\n",
       "      <td>754.0</td>\n",
       "      <td>2510.0</td>\n",
       "      <td>725.0</td>\n",
       "      <td>6.9454</td>\n",
       "      <td>276500.0</td>\n",
       "      <td>&lt;1H OCEAN</td>\n",
       "    </tr>\n",
       "  </tbody>\n",
       "</table>\n",
       "<p>4536 rows × 10 columns</p>\n",
       "</div>"
      ],
      "text/plain": [
       "      longitude  latitude  housing_median_age  total_rooms  total_bedrooms  \\\n",
       "702     -121.97     37.64                32.0       1283.0           194.0   \n",
       "831     -121.99     37.61                 9.0       3666.0           711.0   \n",
       "860     -121.97     37.57                21.0       4342.0           783.0   \n",
       "861     -121.96     37.58                15.0       3575.0           597.0   \n",
       "863     -121.99     37.58                31.0       2878.0           478.0   \n",
       "...         ...       ...                 ...          ...             ...   \n",
       "20502   -118.71     34.30                20.0       1586.0           187.0   \n",
       "20504   -118.75     34.33                27.0        534.0            85.0   \n",
       "20505   -118.73     34.29                11.0       5451.0           736.0   \n",
       "20506   -118.72     34.29                22.0       3266.0           529.0   \n",
       "20507   -118.73     34.29                 8.0       4983.0           754.0   \n",
       "\n",
       "       population  households  median_income  median_house_value  \\\n",
       "702         485.0       171.0         6.0574            431000.0   \n",
       "831        2341.0       703.0         4.6458            217000.0   \n",
       "860        2172.0       789.0         4.6146            247600.0   \n",
       "861        1777.0       559.0         5.7192            283500.0   \n",
       "863        1276.0       485.0         6.2073            282500.0   \n",
       "...           ...         ...            ...                 ...   \n",
       "20502       699.0       209.0         6.5483            335000.0   \n",
       "20504       243.0        77.0         8.2787            330000.0   \n",
       "20505      2526.0       752.0         7.3550            343900.0   \n",
       "20506      1595.0       494.0         6.0368            248000.0   \n",
       "20507      2510.0       725.0         6.9454            276500.0   \n",
       "\n",
       "      ocean_proximity  \n",
       "702         <1H OCEAN  \n",
       "831         <1H OCEAN  \n",
       "860         <1H OCEAN  \n",
       "861         <1H OCEAN  \n",
       "863         <1H OCEAN  \n",
       "...               ...  \n",
       "20502       <1H OCEAN  \n",
       "20504       <1H OCEAN  \n",
       "20505       <1H OCEAN  \n",
       "20506       <1H OCEAN  \n",
       "20507       <1H OCEAN  \n",
       "\n",
       "[4536 rows x 10 columns]"
      ]
     },
     "execution_count": 59,
     "metadata": {},
     "output_type": "execute_result"
    }
   ],
   "source": [
    "# How many people with income above the median income live 1hour away from ocean?\n",
    "\n",
    "income_mean = df['median_income'].mean() # Repeat\n",
    "\n",
    "hour_away = df[(df['median_income'] > income_mean) & (df['ocean_proximity'] == '<1H OCEAN')]\n",
    "hour_away"
   ]
  },
  {
   "cell_type": "markdown",
   "id": "72c890e9",
   "metadata": {},
   "source": [
    "#### Find Correlation Between Population Above The Mean & Median Income <a name=\"correlationpopvsincome\"></a>"
   ]
  },
  {
   "cell_type": "markdown",
   "id": "27230bea",
   "metadata": {},
   "source": [
    "To take a new spin on things, we shall now begin looking at `correlations` between various `columns` to see how they influence each other. For starters, we'll view a subset of the `population` greater than the `mean` (`mean_population`) and the see how this affects the `median_income` of the respected subset (`population_subset`). We can do so with a `Mathematical` using the `corr` function from `pandas`, and `Graphical` approach by using a `Scatter Plot` from the `seaborn` library to explore how these results are distributed."
   ]
  },
  {
   "cell_type": "markdown",
   "id": "8f8e62e5",
   "metadata": {},
   "source": [
    "##### Mathematical <a name=\"correlationpopvsincomemath\"></a>"
   ]
  },
  {
   "cell_type": "code",
   "execution_count": 60,
   "id": "7fde96cd",
   "metadata": {},
   "outputs": [
    {
     "data": {
      "text/plain": [
       "0.05639583232654861"
      ]
     },
     "execution_count": 60,
     "metadata": {},
     "output_type": "execute_result"
    }
   ],
   "source": [
    "# Is there a correlation between the population above mean population and the median income? (numpy, pandas)\n",
    "mean_population = df['population'].mean()\n",
    "population_subset = df[(df['population'] > mean_population)]\n",
    "\n",
    "population_subset['population'].corr(population_subset['median_income'])"
   ]
  },
  {
   "cell_type": "markdown",
   "id": "0f905ff2",
   "metadata": {},
   "source": [
    "##### Graphical <a name=\"correlationpopvsincomegraph\"></a>"
   ]
  },
  {
   "cell_type": "code",
   "execution_count": 61,
   "id": "0bb69f0f",
   "metadata": {},
   "outputs": [
    {
     "data": {
      "text/plain": [
       "Text(0.5, 1.0, 'Scatter Plot: Median Income vs Population')"
      ]
     },
     "execution_count": 61,
     "metadata": {},
     "output_type": "execute_result"
    },
    {
     "data": {
      "image/png": "[encoded data removed]",
      "text/plain": [
       "<Figure size 720x432 with 1 Axes>"
      ]
     },
     "metadata": {},
     "output_type": "display_data"
    }
   ],
   "source": [
    "# Going Further: Portraying Median Income and Population on scatterplot (seaborn)\n",
    "# Notice: population is lower towards right (means high median income results in low population)\n",
    "sns.set(rc={'figure.figsize':(10,6)})\n",
    "sns.scatterplot(data = df, x = df['median_income'], y = df['population']).set_title('Scatter Plot: Median Income vs Population')"
   ]
  },
  {
   "cell_type": "markdown",
   "id": "bd4df64b",
   "metadata": {},
   "source": [
    "### Find Correlation Between Median House Values & Population <a name=\"correlationhousevalvspopulation\"></a>"
   ]
  },
  {
   "cell_type": "markdown",
   "id": "10439627",
   "metadata": {},
   "source": [
    "Another great `correlation` to explore would be the relationship between `median_house_values` and the `population`. We can do so with a `Mathematical` using the `corr` function from `pandas`, and `Graphical` approach by using a `Scatter Plot` from the `seaborn` library to explore how these results are distributed."
   ]
  },
  {
   "cell_type": "markdown",
   "id": "99ad900d",
   "metadata": {},
   "source": [
    "##### Mathematical <a name=\"correlationhousevalvspopulationmath\"></a>"
   ]
  },
  {
   "cell_type": "code",
   "execution_count": 62,
   "id": "afa2de41",
   "metadata": {},
   "outputs": [
    {
     "data": {
      "text/plain": [
       "-0.025299732287441964"
      ]
     },
     "execution_count": 62,
     "metadata": {},
     "output_type": "execute_result"
    }
   ],
   "source": [
    "df['median_house_value'].corr(df['population'])"
   ]
  },
  {
   "cell_type": "markdown",
   "id": "91489a4b",
   "metadata": {},
   "source": [
    "##### Graphical <a name=\"correlationhousevalvspopulationgraph\"></a>"
   ]
  },
  {
   "cell_type": "code",
   "execution_count": 63,
   "id": "74382e1e",
   "metadata": {},
   "outputs": [
    {
     "data": {
      "text/plain": [
       "Text(0.5, 1.0, 'Scatter Plot: Median House Values vs Population')"
      ]
     },
     "execution_count": 63,
     "metadata": {},
     "output_type": "execute_result"
    },
    {
     "data": {
      "image/png": "[encoded data removed]",
      "text/plain": [
       "<Figure size 720x432 with 1 Axes>"
      ]
     },
     "metadata": {},
     "output_type": "display_data"
    }
   ],
   "source": [
    "# Going Further: Portraying Median House Value and Population on scatterplot (seaborn)\n",
    "# Notice: population is steady towards right (means high median house values have steady populations\n",
    "sns.set(rc={'figure.figsize':(10,6)})\n",
    "sns.scatterplot(data = df, x = df['median_house_value'], y = df['population']).set_title('Scatter Plot: Median House Values vs Population')"
   ]
  },
  {
   "cell_type": "markdown",
   "id": "c3e8e232",
   "metadata": {},
   "source": [
    "### Find Correlation Between Total Rooms and Total Bedrooms <a name=\"correlationroomsvsbedrooms\"></a>"
   ]
  },
  {
   "cell_type": "markdown",
   "id": "7e958387",
   "metadata": {},
   "source": [
    "Next, we will explore a `correlation` between the `total_rooms` of a house and the `total_bedrooms` to see how they influence each other. In this case, we will stick to just the `Mathematical` approach using the `corr` function from `pandas`."
   ]
  },
  {
   "cell_type": "markdown",
   "id": "085093f8",
   "metadata": {},
   "source": [
    "##### Mathematical <a name=\"correlationroomsvsbedroomsmath\"></a>"
   ]
  },
  {
   "cell_type": "code",
   "execution_count": 64,
   "id": "06ccee84",
   "metadata": {
    "scrolled": true
   },
   "outputs": [
    {
     "data": {
      "text/plain": [
       "0.38392032075938465"
      ]
     },
     "execution_count": 64,
     "metadata": {},
     "output_type": "execute_result"
    }
   ],
   "source": [
    "# Is there a correlation between the total rooms and the total bedrooms? (numpy, pandas)\n",
    "\n",
    "roomToBedRatio = df.total_rooms / df.total_bedrooms\n",
    "df['median_house_value'].corr(roomToBedRatio)"
   ]
  },
  {
   "cell_type": "markdown",
   "id": "bd981283",
   "metadata": {},
   "source": [
    "### Find Correlation Between Households, Median House Value, and Median Income <a name=\"correlationhouseholdsvsvaluevsincome\"></a>"
   ]
  },
  {
   "cell_type": "markdown",
   "id": "fb9ea1e9",
   "metadata": {},
   "source": [
    "Finally, we will explore a `correlation` regarding 3 factors: `households`,`median_house_value`, and `median_income` to see how they influence each other. In this case, we will stick to just the `Mathematical` approach using the `corr` function from `pandas`, but we will output this result as a table."
   ]
  },
  {
   "cell_type": "markdown",
   "id": "0b410c27",
   "metadata": {},
   "source": [
    "##### Mathematical <a name=\"correlationhouseholdsvsvaluevsincomemath\"></a>"
   ]
  },
  {
   "cell_type": "code",
   "execution_count": 65,
   "id": "f7f9199d",
   "metadata": {
    "scrolled": true
   },
   "outputs": [
    {
     "data": {
      "text/html": [
       "<div>\n",
       "<style scoped>\n",
       "    .dataframe tbody tr th:only-of-type {\n",
       "        vertical-align: middle;\n",
       "    }\n",
       "\n",
       "    .dataframe tbody tr th {\n",
       "        vertical-align: top;\n",
       "    }\n",
       "\n",
       "    .dataframe thead th {\n",
       "        text-align: right;\n",
       "    }\n",
       "</style>\n",
       "<table border=\"1\" class=\"dataframe\">\n",
       "  <thead>\n",
       "    <tr style=\"text-align: right;\">\n",
       "      <th></th>\n",
       "      <th>households</th>\n",
       "      <th>median_house_value</th>\n",
       "      <th>median_income</th>\n",
       "    </tr>\n",
       "  </thead>\n",
       "  <tbody>\n",
       "    <tr>\n",
       "      <th>households</th>\n",
       "      <td>1.000000</td>\n",
       "      <td>0.064894</td>\n",
       "      <td>0.013434</td>\n",
       "    </tr>\n",
       "    <tr>\n",
       "      <th>median_house_value</th>\n",
       "      <td>0.064894</td>\n",
       "      <td>1.000000</td>\n",
       "      <td>0.688355</td>\n",
       "    </tr>\n",
       "    <tr>\n",
       "      <th>median_income</th>\n",
       "      <td>0.013434</td>\n",
       "      <td>0.688355</td>\n",
       "      <td>1.000000</td>\n",
       "    </tr>\n",
       "  </tbody>\n",
       "</table>\n",
       "</div>"
      ],
      "text/plain": [
       "                    households  median_house_value  median_income\n",
       "households            1.000000            0.064894       0.013434\n",
       "median_house_value    0.064894            1.000000       0.688355\n",
       "median_income         0.013434            0.688355       1.000000"
      ]
     },
     "execution_count": 65,
     "metadata": {},
     "output_type": "execute_result"
    }
   ],
   "source": [
    "# Explore correlations related to median_income, median_house_value, and households\n",
    "df[['households','median_house_value','median_income']].corr()"
   ]
  },
  {
   "cell_type": "markdown",
   "id": "45b093f9",
   "metadata": {},
   "source": [
    "### Correlation Matrix: Total Rooms, Total Bedrooms, Median House Value <a name=\"correlationroomsvsbedroomsvsvalue\"></a>"
   ]
  },
  {
   "cell_type": "markdown",
   "id": "fdaa21f5",
   "metadata": {},
   "source": [
    "A better way, to display a `correlation` would be to generate a `Correlation Matrix`. In this `matrix` we will explore the `correlation` between `total_rooms`, `total_bedrooms`, and `median_house_value`. For this `matrix`, we will go straight to the `Graphical` output by using `seaborn`'s `heatmap` function."
   ]
  },
  {
   "cell_type": "markdown",
   "id": "83cba683",
   "metadata": {},
   "source": [
    "##### Graphical <a name=\"correlationroomsvsbedroomsvsvaluegraph\"></a>"
   ]
  },
  {
   "cell_type": "code",
   "execution_count": 66,
   "id": "e94c4253",
   "metadata": {
    "scrolled": false
   },
   "outputs": [
    {
     "data": {
      "image/png": "[encoded data removed]",
      "text/plain": [
       "<Figure size 720x432 with 2 Axes>"
      ]
     },
     "metadata": {},
     "output_type": "display_data"
    }
   ],
   "source": [
    "# Going Further: displaying the correlation matrix between total rooms, total bedrooms, and house median price\n",
    "sns.set(rc={'figure.figsize':(10,6)})\n",
    "data = {'Total Rooms': df['total_rooms'],\n",
    "        'Total Bedrooms': df['total_bedrooms'],\n",
    "        'House Value': df['median_house_value'],\n",
    "        }\n",
    "\n",
    "pop_income_value = pd.DataFrame(data,columns=['Total Rooms','Total Bedrooms', 'House Value'])\n",
    "\n",
    "corrMatrix = pop_income_value.corr()\n",
    "sns.heatmap(corrMatrix, annot=True)\n",
    "plt.title('Correlation Matrix Between Total Rooms, Total Bedrooms, and House Value')\n",
    "plt.show()"
   ]
  },
  {
   "cell_type": "markdown",
   "id": "f54e1e37",
   "metadata": {},
   "source": [
    "### Correlation Matrix: Population vs. Median Income vs. House Value <a name=\"correlationmatrixpopvsincomevsvalue\"></a>"
   ]
  },
  {
   "cell_type": "markdown",
   "id": "5d57bf92",
   "metadata": {},
   "source": [
    "Next, let's display a `Correlation Matrix` for that digs deeper on the `population_subset` we made earlier. In this exploration, we shall analyze the `population`, `median_income`, and `median_house_value` fields. For this `matrix`, we will go straight to the `Graphical` output by using `seaborn`'s `heatmap` function."
   ]
  },
  {
   "cell_type": "markdown",
   "id": "e40e32be",
   "metadata": {},
   "source": [
    "##### Graphical <a name=\"correlationmatrixpopvsincomevsvaluegraph\"></a>"
   ]
  },
  {
   "cell_type": "code",
   "execution_count": 67,
   "id": "37827dc4",
   "metadata": {
    "scrolled": false
   },
   "outputs": [
    {
     "data": {
      "image/png": "[encoded data removed]",
      "text/plain": [
       "<Figure size 720x432 with 2 Axes>"
      ]
     },
     "metadata": {},
     "output_type": "display_data"
    }
   ],
   "source": [
    "# Going Further: Looking for correlation between populations (above population mean), median income, and house income (seaborn)\n",
    "sns.set(rc={'figure.figsize':(10,6)})\n",
    "data = {'Population': population_subset['population'],\n",
    "        'Median Income': population_subset['median_income'],\n",
    "        'House Value': population_subset['median_house_value'],\n",
    "        }\n",
    "\n",
    "pop_income_value = pd.DataFrame(data,columns=['Population','Median Income', 'House Value'])\n",
    "\n",
    "corrMatrix = pop_income_value.corr()\n",
    "sns.heatmap(corrMatrix, annot=True)\n",
    "plt.title('Correlation Matrix Between Population, Median Income, and House Value')\n",
    "plt.show()"
   ]
  },
  {
   "cell_type": "markdown",
   "id": "5de59b87",
   "metadata": {},
   "source": [
    "### Line Plot: Median House Value vs. Households <a name=\"lineplotvaluevshouseholds\"></a>"
   ]
  },
  {
   "cell_type": "markdown",
   "id": "036148d2",
   "metadata": {},
   "source": [
    "`Line Plots` are a great way to analyze the changes in data over time, but are also a great way to analyize the fluctuation in the spread among values for specific data. In this analysis, we will be focusing on `median_house_value` and number of `households` to view the distribution of how many houses are found in certain value ranges. To achieve this `plot`, we will go straight to the `Graphical` output by using `seaborn`'s `lineplot` function."
   ]
  },
  {
   "cell_type": "markdown",
   "id": "c0593b10",
   "metadata": {},
   "source": [
    "##### Graphical <a name=\"lineplotvaluevshouseholdsgraph\"></a>"
   ]
  },
  {
   "cell_type": "code",
   "execution_count": 68,
   "id": "34beab30",
   "metadata": {},
   "outputs": [
    {
     "data": {
      "text/plain": [
       "Text(0.5, 1.0, 'Line Plot: Median House Values and Number of Households in the Respective Values')"
      ]
     },
     "execution_count": 68,
     "metadata": {},
     "output_type": "execute_result"
    },
    {
     "data": {
      "image/png": "[encoded data removed]",
      "text/plain": [
       "<Figure size 720x432 with 1 Axes>"
      ]
     },
     "metadata": {},
     "output_type": "display_data"
    }
   ],
   "source": [
    "sns.set(rc={'figure.figsize':(10,6)})\n",
    "sns.lineplot(x=\"median_house_value\", y=\"households\",  data=df).set_title('Line Plot: Median House Values and Number of Households in the Respective Values')"
   ]
  },
  {
   "cell_type": "markdown",
   "id": "0f0e19a6",
   "metadata": {},
   "source": [
    "### Heatmap: Household Distribution accross California <a name=\"heatmapcali\"></a>"
   ]
  },
  {
   "cell_type": "markdown",
   "id": "7f419abe",
   "metadata": {},
   "source": [
    "#### Preparing The Data <a name=\"heatmapcaliprepare\"></a>"
   ]
  },
  {
   "cell_type": "markdown",
   "id": "9f07be3e",
   "metadata": {},
   "source": [
    "Prepareing a `Heatmap` requires a lot of close attention to detail. For this matter, a preparation step is required to ensure that `matplotlib`'s `heatmap` works properly in conjunction with `pandas` to understand the `DataFrame`'s location points. \n",
    "\n",
    "To achieve this, the preparation is broken in to two `steps`:\n",
    "- `Step 1:` Is to merge the county_data file and the new `DataFrame`, and `count` the occurences. This results in a `DataFrame` with just the `county` names, as well as `latitude` and `longitude` coordinates.\n",
    "- `Step 2:` Then creates a new dataset mixed with the `county` data as well as the California `Dataset`; merging both `county` `columns` together. "
   ]
  },
  {
   "cell_type": "code",
   "execution_count": 11,
   "id": "9e2e5389",
   "metadata": {},
   "outputs": [
    {
     "data": {
      "text/html": [
       "<div>\n",
       "<style scoped>\n",
       "    .dataframe tbody tr th:only-of-type {\n",
       "        vertical-align: middle;\n",
       "    }\n",
       "\n",
       "    .dataframe tbody tr th {\n",
       "        vertical-align: top;\n",
       "    }\n",
       "\n",
       "    .dataframe thead th {\n",
       "        text-align: right;\n",
       "    }\n",
       "</style>\n",
       "<table border=\"1\" class=\"dataframe\">\n",
       "  <thead>\n",
       "    <tr style=\"text-align: right;\">\n",
       "      <th></th>\n",
       "      <th>county</th>\n",
       "      <th>count</th>\n",
       "    </tr>\n",
       "  </thead>\n",
       "  <tbody>\n",
       "    <tr>\n",
       "      <th>20</th>\n",
       "      <td>Los Angeles County</td>\n",
       "      <td>5756</td>\n",
       "    </tr>\n",
       "    <tr>\n",
       "      <th>32</th>\n",
       "      <td>Orange County</td>\n",
       "      <td>1607</td>\n",
       "    </tr>\n",
       "    <tr>\n",
       "      <th>39</th>\n",
       "      <td>San Diego County</td>\n",
       "      <td>1590</td>\n",
       "    </tr>\n",
       "    <tr>\n",
       "      <th>0</th>\n",
       "      <td>Alameda County</td>\n",
       "      <td>1013</td>\n",
       "    </tr>\n",
       "    <tr>\n",
       "      <th>45</th>\n",
       "      <td>Santa Clara County</td>\n",
       "      <td>991</td>\n",
       "    </tr>\n",
       "    <tr>\n",
       "      <th>38</th>\n",
       "      <td>San Bernardino County</td>\n",
       "      <td>821</td>\n",
       "    </tr>\n",
       "    <tr>\n",
       "      <th>36</th>\n",
       "      <td>Sacramento County</td>\n",
       "      <td>684</td>\n",
       "    </tr>\n",
       "    <tr>\n",
       "      <th>6</th>\n",
       "      <td>Contra Costa County</td>\n",
       "      <td>590</td>\n",
       "    </tr>\n",
       "    <tr>\n",
       "      <th>35</th>\n",
       "      <td>Riverside County</td>\n",
       "      <td>586</td>\n",
       "    </tr>\n",
       "    <tr>\n",
       "      <th>40</th>\n",
       "      <td>San Francisco</td>\n",
       "      <td>567</td>\n",
       "    </tr>\n",
       "  </tbody>\n",
       "</table>\n",
       "</div>"
      ],
      "text/plain": [
       "                   county  count\n",
       "20     Los Angeles County   5756\n",
       "32          Orange County   1607\n",
       "39       San Diego County   1590\n",
       "0          Alameda County   1013\n",
       "45     Santa Clara County    991\n",
       "38  San Bernardino County    821\n",
       "36      Sacramento County    684\n",
       "6     Contra Costa County    590\n",
       "35       Riverside County    586\n",
       "40          San Francisco    567"
      ]
     },
     "execution_count": 11,
     "metadata": {},
     "output_type": "execute_result"
    }
   ],
   "source": [
    "# Step 1: Preparing Heatmap DataFrame\n",
    "newdf = df\n",
    "newdf.groupby(['latitude','longitude']).count().reset_index();\n",
    "newdf = newdf[['latitude','longitude']]\n",
    "\n",
    "county_coords = pd.merge(county_data, newdf,left_index=True, right_index=True)\n",
    "county_coords['count'] = 1\n",
    "databylat = county_coords.groupby('county').count()[['count']].reset_index()\n",
    "databylat.sort_values('count', ascending=False).head(10)\n",
    "\n",
    "# Step 2: Creating a new DataFrame\n",
    "merged = regions.set_index('county').join(databylat.set_index('county'))\n",
    "merged = merged.reset_index().fillna(0)\n",
    "merged['INTPTLAT'] = merged['INTPTLAT'].astype(float)\n",
    "merged['INTPTLON'] = merged['INTPTLON'].astype(float)\n",
    "databylat.sort_values('count', ascending=False).head(10)\n"
   ]
  },
  {
   "cell_type": "markdown",
   "id": "c9110959",
   "metadata": {},
   "source": [
    "##### Graphical <a name=\"heatmapcaligraph\"></a>"
   ]
  },
  {
   "cell_type": "markdown",
   "id": "b0fbb60d",
   "metadata": {},
   "source": [
    "Using the data above and `matplotlib`, we were able to visualize the state of California's `household` data as a `heatmap`. This information is particularly interesting as it showcases the most dense counties and opens doors to further location based examinations."
   ]
  },
  {
   "cell_type": "code",
   "execution_count": 70,
   "id": "53b3f476",
   "metadata": {},
   "outputs": [
    {
     "data": {
      "image/png": "[encoded data removed]",
      "text/plain": [
       "<Figure size 2880x1440 with 2 Axes>"
      ]
     },
     "metadata": {},
     "output_type": "display_data"
    }
   ],
   "source": [
    "fig, ax = plt.subplots(1, figsize=(40, 20))\n",
    "ax.axis('off')\n",
    "ax.set_title('Heat Map of Households in California', fontdict={'fontsize': '40', 'fontweight' : '3'})\n",
    "color = 'Reds'\n",
    "vmin, vmax = 0, 500\n",
    "sm = plt.cm.ScalarMappable(cmap=color, norm=plt.Normalize(vmin=vmin, vmax=vmax))\n",
    "# sm._A = []\n",
    "cbar = fig.colorbar(sm)\n",
    "cbar.ax.tick_params(labelsize=20)\n",
    "merged.plot('count', cmap=color, linewidth=0.8, ax=ax, edgecolor='0.8', figsize=(40,20))\n",
    "\n",
    "for idx, row in merged.iterrows():\n",
    "    if(row['count'] > 500):\n",
    "        plt.annotate(row['county'], xy=(row['INTPTLAT'], row['INTPTLON']),\n",
    "                 horizontalalignment='center', fontsize='large', color='black', wrap=True)\n",
    "plt.show()"
   ]
  },
  {
   "cell_type": "markdown",
   "id": "99cf24ba",
   "metadata": {},
   "source": [
    "## Potential Data Science <a name=\"datascience\"></a>\n",
    "Click [here](#toc) to return to Table of Contents"
   ]
  },
  {
   "cell_type": "markdown",
   "id": "62b01773",
   "metadata": {},
   "source": [
    "The potential for `Data Science` is never ending. With new libraries being introduced each day to assist industry sectors such as *Artificial Intellegence* and *Machine Learning*, there are many new uses for the sort of data explored in this blog. Below, are some of many real world potential `Data Science` examples."
   ]
  },
  {
   "cell_type": "markdown",
   "id": "37c24376",
   "metadata": {},
   "source": [
    "### Real Estate Market <a name=\"realestate\"></a>"
   ]
  },
  {
   "cell_type": "markdown",
   "id": "112a0ea7",
   "metadata": {},
   "source": [
    "&nbsp;&nbsp;&nbsp;&nbsp;&nbsp;&nbsp;As the Real Estate Market constantly shows growth, the data examined throughout the blog would be great use in a scenario where local home developers may want to survey the state, to determine where to make a home based on the `population` density. Moreover, local home builders may decide to price their homes accordingly, or make sure to include a certain number of rooms in the new homes being sold based on the `correlation` results found in the [Exploratory Data Analysis](#explore).\n",
    "\n",
    "&nbsp;&nbsp;&nbsp;&nbsp;&nbsp;&nbsp;Another example of `Data Science` in the Real Estate industry would be for advertisement corporations. Large advertising companies regularly review such analytics to determine when, where, and how to place advertisements for maximum visibility and ROI."
   ]
  },
  {
   "cell_type": "markdown",
   "id": "0a7b07c8",
   "metadata": {},
   "source": [
    "&nbsp;&nbsp;&nbsp;&nbsp;&nbsp;&nbsp;Below, the embedded line graph showcases the historical `House Price Index for California` throughout the years of 1975 and 2021. It is evident that the year of 1990 saw great amounts of growth in its time. There is a potential for `Data Science` applications such as `Prediction Models` to determine if there will be a rise or fall in the market for the years to come."
   ]
  },
  {
   "cell_type": "code",
   "execution_count": 71,
   "id": "cb334f85",
   "metadata": {
    "scrolled": false
   },
   "outputs": [
    {
     "data": {
      "text/html": [
       "\n",
       "        <iframe\n",
       "            width=\"1000\"\n",
       "            height=\"500\"\n",
       "            src=\"https://fred.stlouisfed.org/graph/graph-landing.php?g=JtOU&width=1000&height=475\"\n",
       "            frameborder=\"0\"\n",
       "            allowfullscreen\n",
       "            \n",
       "        ></iframe>\n",
       "        "
      ],
      "text/plain": [
       "<IPython.lib.display.IFrame at 0x18173064f10>"
      ]
     },
     "execution_count": 71,
     "metadata": {},
     "output_type": "execute_result"
    }
   ],
   "source": [
    "# All-Transactions House Price Index for California  \n",
    "\n",
    "IFrame('https://fred.stlouisfed.org/graph/graph-landing.php?g=JtOU&width=1000&height=475', width=1000, height=500, )"
   ]
  },
  {
   "cell_type": "markdown",
   "id": "b253651b",
   "metadata": {},
   "source": [
    "### City Planning <a name=\"cityplanning\"></a>"
   ]
  },
  {
   "cell_type": "markdown",
   "id": "96bd5af0",
   "metadata": {},
   "source": [
    "&nbsp;&nbsp;&nbsp;&nbsp;&nbsp;&nbsp;City Planning is a topic that can benefit greatly from the [Exploratory Data Analysis](#explore) preformed along with yield huge potentials for `Data Science` applications. \n",
    "\n",
    "&nbsp;&nbsp;&nbsp;&nbsp;&nbsp;&nbsp;For starters, undestanding the census data from the 1990 census and pairing it with a heatmap for household distribution is a great example of how the city may chose to plan out future infrastructure development projects (i.e. roads, pipelines, bus routes, etc.). \n",
    "\n",
    "&nbsp;&nbsp;&nbsp;&nbsp;&nbsp;&nbsp;Another great example of how City Planning can utilize `Data Science` with data in such a manner is for tax policies. Cities/Towns/Counties may update their rates respectfully according to the data analyzed. A more dense city may chose to raise or lower its property tax rates to invite more homes or drive-up a more niche neighbourhood."
   ]
  },
  {
   "cell_type": "markdown",
   "id": "12fba38b",
   "metadata": {},
   "source": [
    "&nbsp;&nbsp;&nbsp;&nbsp;&nbsp;&nbsp;Below, the embedded line graph showcases the historical `Unemployment` for California throughout the years of 1976 and 2021. It is evident that the year of 1990 saw a stead `Unemployment` rate. There is a potential for `Data Science` applications such as `Regression Model` to determine if a given region within the state is at high risk for a largely unemployed population."
   ]
  },
  {
   "cell_type": "code",
   "execution_count": 72,
   "id": "1d68281c",
   "metadata": {
    "scrolled": false
   },
   "outputs": [
    {
     "data": {
      "text/html": [
       "\n",
       "        <iframe\n",
       "            width=\"1000\"\n",
       "            height=\"500\"\n",
       "            src=\"https://fred.stlouisfed.org/graph/graph-landing.php?g=JnFq&width=1000&height=475\"\n",
       "            frameborder=\"0\"\n",
       "            allowfullscreen\n",
       "            \n",
       "        ></iframe>\n",
       "        "
      ],
      "text/plain": [
       "<IPython.lib.display.IFrame at 0x18173064cd0>"
      ]
     },
     "execution_count": 72,
     "metadata": {},
     "output_type": "execute_result"
    }
   ],
   "source": [
    "# Unemployment\n",
    "\n",
    "IFrame('https://fred.stlouisfed.org/graph/graph-landing.php?g=JnFq&width=1000&height=475', width=1000, height=500, )"
   ]
  },
  {
   "cell_type": "markdown",
   "id": "6154633c",
   "metadata": {},
   "source": [
    "### Investor Outlook <a name=\"investoroutlook\"></a>"
   ]
  },
  {
   "cell_type": "markdown",
   "id": "3b4e2bfd",
   "metadata": {},
   "source": [
    "- buyers\n",
    "- shops / mom-pop shops\n",
    "- corporate offices\n",
    "\n",
    "&nbsp;&nbsp;&nbsp;&nbsp;&nbsp;&nbsp;The work done in the [Exploratory Data Analysis](#explore) section can greatly benefit those looking to preformed `Data Science` for Investing. \n",
    "\n",
    "&nbsp;&nbsp;&nbsp;&nbsp;&nbsp;&nbsp;One great example of `Data Science` for Investor Outlook is the idea that investors may wish to understanding the housing market further. In this case, rather than focusing on the Real Estate side of things, investors may wish to seek out the strongest `correlations` between `house values` and `number of rooms` since this may assist with buying decisions when the time comes to make an offer on a property. Likewise, there is a potential for further data exploration for demographics based on an area's `population` and/or `ocean proximity`. \n",
    "\n",
    "\n",
    "&nbsp;&nbsp;&nbsp;&nbsp;&nbsp;&nbsp;Secondly, another great example of how `Data Science` may be used to further the [Exploratory Data Analysis](#explore) is that Large Corporations may use this information when deciding on where to open *corporate offices* or *franchises*. Likewise, local businesses can benefit from the same example to determine where in the state a local *mom & pop shop* could profit the greatest."
   ]
  },
  {
   "cell_type": "markdown",
   "id": "ee19f392",
   "metadata": {},
   "source": [
    "&nbsp;&nbsp;&nbsp;&nbsp;&nbsp;&nbsp;Below, the embedded line graph showcases the historical `Rental Vacancy Rate` for California throughout the years of 1984 and 2020. It is evident that the year of 1990 saw a light incline on `Rental Vacancy` rates. There is a potential for `Data Science` applications such as `Decision Trees` to determine whether it is a good time for a potential investor to poceeed."
   ]
  },
  {
   "cell_type": "code",
   "execution_count": 73,
   "id": "30513899",
   "metadata": {},
   "outputs": [
    {
     "data": {
      "text/html": [
       "\n",
       "        <iframe\n",
       "            width=\"1000\"\n",
       "            height=\"500\"\n",
       "            src=\"https://fred.stlouisfed.org/graph/graph-landing.php?g=JtPb&width=1000&height=475\"\n",
       "            frameborder=\"0\"\n",
       "            allowfullscreen\n",
       "            \n",
       "        ></iframe>\n",
       "        "
      ],
      "text/plain": [
       "<IPython.lib.display.IFrame at 0x18173064250>"
      ]
     },
     "execution_count": 73,
     "metadata": {},
     "output_type": "execute_result"
    }
   ],
   "source": [
    "# Rental Vacancy Rate for California \n",
    "\n",
    "IFrame('https://fred.stlouisfed.org/graph/graph-landing.php?g=JtPb&width=1000&height=475', width=1000, height=500, )"
   ]
  },
  {
   "cell_type": "markdown",
   "id": "097b050a",
   "metadata": {},
   "source": [
    "### Conclusion"
   ]
  },
  {
   "cell_type": "markdown",
   "id": "4cb3bb9e",
   "metadata": {},
   "source": [
    "&nbsp;&nbsp;&nbsp;&nbsp;&nbsp;&nbsp;To conclude, we truly found these datasets interesting to work with. Now, we can make Data Science models and predictions based on our findings. In one of the plots, one can see how the incomes constrict the population.\n",
    "\n",
    "&nbsp;&nbsp;&nbsp;&nbsp;&nbsp;&nbsp;Although the write up may seem well put together, it was quite a challenge trying to figure out how to create some of the plots - especially the heatmap. Another challenge that we had was trying to find supporting datasets that were as compliant/advance as our initial one. Finally, one of the greatest challenges we had was, getting some of the libraries to work in the Docker environment for Jupyter Notebook. As a work around, we ended up needing to create a local Jupyter environment in Visual Studio Code to proceed with the analysis. This project made us see limitations and advantages both in ourselves and the world around us. \n",
    "\n",
    "&nbsp;&nbsp;&nbsp;&nbsp;&nbsp;&nbsp;All in all, it was refreshing going over all the road bumps that came our way, and we'd be excited to do it all again. "
   ]
  },
  {
   "cell_type": "markdown",
   "id": "f0483cfb",
   "metadata": {},
   "source": [
    "## Bibliography <a name=\"bibliography\"></a>\n",
    "\n",
    "Click [here](#toc) to return to Table of Contents"
   ]
  },
  {
   "cell_type": "markdown",
   "id": "dd4c0a9d",
   "metadata": {},
   "source": [
    "Nugent, C. (2017). California Housing Prices (Version V1) [Data set]. Kaggle. https://www.kaggle.com/camnugent/california-housing-prices"
   ]
  },
  {
   "cell_type": "markdown",
   "id": "d8a6b935",
   "metadata": {},
   "source": [
    "Vemuri, M. (2019). Create a geographic heat map of the City of Toronto in Python [ Article ]. Medium. https://medium.com/@m_vemuri/create-a-geographic-heat-map-of-the-city-of-toronto-in-python-cd2ae0f8be55"
   ]
  },
  {
   "cell_type": "markdown",
   "id": "a90af90e",
   "metadata": {},
   "source": [
    "U.S. Bureau of Labor Statistics, Unemployment Rate in California [CAUR], retrieved from FRED, Federal Reserve Bank of St. Louis; https://fred.stlouisfed.org/series/CAUR, December 3, 2021"
   ]
  },
  {
   "cell_type": "markdown",
   "id": "3a191c6b",
   "metadata": {},
   "source": [
    "U.S. Census Bureau, Rental Vacancy Rate for California [CARVAC], retrieved from FRED, Federal Reserve Bank of St. Louis; https://fred.stlouisfed.org/series/CARVAC, December 2, 2021. "
   ]
  },
  {
   "cell_type": "markdown",
   "id": "daf007a9",
   "metadata": {},
   "source": [
    "U.S. Federal Housing Finance Agency, All-Transactions House Price Index for California [CASTHPI], retrieved from FRED, Federal Reserve Bank of St. Louis; https://fred.stlouisfed.org/series/CASTHPI, December 2, 2021. \n"
   ]
  }
 ],
 "metadata": {
  "kernelspec": {
   "display_name": "Python 3 (ipykernel)",
   "language": "python",
   "name": "python3"
  },
  "language_info": {
   "codemirror_mode": {
    "name": "ipython",
    "version": 3
   },
   "file_extension": ".py",
   "mimetype": "text/x-python",
   "name": "python",
   "nbconvert_exporter": "python",
   "pygments_lexer": "ipython3",
   "version": "3.9.5"
  }
 },
 "nbformat": 4,
 "nbformat_minor": 5
}
